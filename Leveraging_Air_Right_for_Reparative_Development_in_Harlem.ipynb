{
  "nbformat": 4,
  "nbformat_minor": 0,
  "metadata": {
    "colab": {
      "name": "Leveraging Air Right for Reparative Development in Harlem.ipynb",
      "provenance": [],
      "collapsed_sections": [],
      "include_colab_link": true
    },
    "kernelspec": {
      "name": "python3",
      "display_name": "Python 3"
    },
    "language_info": {
      "name": "python"
    }
  },
  "cells": [
    {
      "cell_type": "markdown",
      "metadata": {
        "id": "view-in-github",
        "colab_type": "text"
      },
      "source": [
        "<a href=\"https://colab.research.google.com/github/tanhata/HarlemAirRights/blob/main/Leveraging_Air_Right_for_Reparative_Development_in_Harlem.ipynb\" target=\"_parent\"><img src=\"https://colab.research.google.com/assets/colab-badge.svg\" alt=\"Open In Colab\"/></a>"
      ]
    },
    {
      "cell_type": "markdown",
      "metadata": {
        "id": "xtEH8iE5qgXA"
      },
      "source": [
        "# **Leveraging Air Rights for Reparative Development in Harlem**\n",
        "The Bernard & Spitzer School of Architecture\n",
        "\n",
        "Alden Copley, John Hartmann, Alyssa Lewis, Matthew Morgan, Nusrat Sharmin and Tanha Tabassum Alsheikhdallah\n",
        "\n",
        "\n",
        "\n",
        "---\n",
        "\n",
        "\n",
        "### **Abstract**\n",
        "\n",
        "This paper advances a proposal to leverage air rights, a novel vehicle for managing those air rights, and a programmatic structural strategy in order to develop affordable housing which creates lasting financial benefits for the residents of Harlem. We propose the creation of BitLot, a community corporation tasked with raising community capital, aggregating air rights, and developing affordable housing projects in those amassed spaces. The proposal requires the NYC Department of City Planning to privilege BitLot with a waiver on air right transfer restrictions within Harlem. Initial development costs not covered by community capital can be raised through federal credits, municipal subsidy, and low interest loans from socially motivated investors. Operating costs will be reduced through tax exemptions, freeing operating revenue to be distributed as dividends to investors. Residents with long tenures in Harlem, or with generational links to residents located in redlined areas of Harlem are eligible to receive developable assets they can invest in BitLot projects. In order to reduce construction costs and maximize community benefit, the working group proposes a parallel initiative, AirLot. This component involves developing a structural design strategy to rapidly generate contextually appropriate structures using a set of factors defined by the community. The combination of BitLot’s fluid use of air rights, community return products and an efficient structural design strategy promises to unlock millions of square feet for affordable housing, ensure resident ownership of new development, build community wealth, and enhance the character of Harlem’s built environment. \n",
        "\n",
        "### **Introduction**\n",
        "\n",
        "The affordable housing crisis in NYC is made perpetual by the immense challenges in the production of sufficient units to meet demand.  Economists routinely point to zoning, land cost and building cost as key prohibitive factors. This is exacerbated by the lack of available land or building lots. The acquisition cost of remaining privately held lots is high. This has not always been the case — the city owned 65% of Harlem in the 1980s but the sell off of 80% of the properties hindered the possibility of the city becoming part of direct future development. In response, residents formed the Anti-Lottery Committee of Harlemites to prevent the takeover of neighborhood buildings by outsiders. It is alleged that many of Harlem's brownstones were offered to out-of-area investors and investment corporations that predominantly did not have ties in the neighborhood. As of 2020 the geographic territory of Harlem has less than 5% of vacant developable land. Paradoxically, while there is little buildable grade level area to build on in Harlem, there are over 70 million SF of air rights allowed by the current zoning regulations that are currently unused. It is in this underutilized space that the working team has identified an opportunity. The problem of an ongoing shortage of affordable housing will be directly impacted by the futurability of flexibility in air rights, zoning, and ownership shares. These issues require useful visioning and public policy reform to provide as well as predict effective public and private responsiveness to the challenge. \n",
        "\n",
        "To understand Harlem is to appreciate the tremendous cultural, civic, and political achievements it has made under the adverse segregated conditions begun in the 1910s and persisting today. As upper Manhattan was developed with row house typologies, many with notable brownstone facades, builders speculated in expectation of northern growth of the city to the expanding elevated subway lines. After a series of real estate booms and busts, the oversupply of housing in Harlem allowed Black Americans to begin to rent and live in the neighborhood.Over the next forty years, starting in 1900, African-Americans became the majority in Harlem, and the area captured the identity and struggles of the community. \n",
        "\n",
        "\n",
        "\n",
        "\n"
      ]
    },
    {
      "cell_type": "code",
      "metadata": {
        "colab": {
          "base_uri": "https://localhost:8080/"
        },
        "collapsed": true,
        "id": "4wga7ISsLeJw",
        "cellView": "form",
        "outputId": "265a1159-39f0-47e1-f90a-bacd49b35349"
      },
      "source": [
        "#@markdown Harlem Demographics 1900s-2000s:\n",
        "#reading xlsx from US Census tract as a dataframe, sorting by 'year'\n",
        "harlemdemo_df= pd.read_excel('Harlem/HARLEM_RACIALDEMOGRAPHIC.xlsx')\n",
        "harlemdemo_df.head()\n",
        "harlemdemo_df.sort_values(by = 'YEAR')\n",
        "\n",
        "#isolating white population of Central Harlem, Greater Harlem, Rest of New York City\n",
        "whitepop = harlemdemo_df[harlemdemo_df['RACE'] =='WHITE']\n",
        "whitepop.sort_values(by='YEAR')\n",
        "\n",
        "whitepop_charlem = whitepop[whitepop['NEIGHBORHOOD']== 'CENTRAL HARLEM']\n",
        "print(whitepop_charlem)\n",
        "\n",
        "whitepop_gharlem = whitepop[whitepop['NEIGHBORHOOD']== 'GREATER HARLEM']\n",
        "print(whitepop_gharlem)\n",
        "\n",
        "whitepop_nyc = whitepop[whitepop['NEIGHBORHOOD']== 'NYC']\n",
        "print(whitepop_nyc)\n",
        "\n",
        "#isolating Black population of Central Harlem, Greater Harlem, Rest of New York City\n",
        "blackpop = harlemdemo_df[harlemdemo_df['RACE'] =='BLACK']\n",
        "blackpop.sort_values(by='YEAR')\n",
        "\n",
        "blackpop_charlem = blackpop[blackpop ['NEIGHBORHOOD'] == 'CENTRAL HARLEM']\n",
        "print(blackpop_charlem)\n",
        "\n",
        "blackpop_gharlem = blackpop[blackpop ['NEIGHBORHOOD'] == 'GREATER HARLEM']\n",
        "print(blackpop_gharlem)\n",
        "\n",
        "blackpop_nyc = blackpop[blackpop ['NEIGHBORHOOD'] == 'NYC']\n",
        "print(blackpop_nyc)\n"
      ],
      "execution_count": null,
      "outputs": [
        {
          "output_type": "stream",
          "text": [
            "    YEAR    NEIGHBORHOOD   RACE  PERCENTAGE\n",
            "11  1910  CENTRAL HARLEM  WHITE       90.01\n",
            "12  1920  CENTRAL HARLEM  WHITE       67.47\n",
            "13  1930  CENTRAL HARLEM  WHITE       29.43\n",
            "14  1940  CENTRAL HARLEM  WHITE       10.48\n",
            "15  1950  CENTRAL HARLEM  WHITE        1.79\n",
            "16  1960  CENTRAL HARLEM  WHITE        2.94\n",
            "17  1970  CENTRAL HARLEM  WHITE        4.28\n",
            "18  1980  CENTRAL HARLEM  WHITE        0.62\n",
            "19  1990  CENTRAL HARLEM  WHITE        1.50\n",
            "20  2000  CENTRAL HARLEM  WHITE        2.07\n",
            "21  2006  CENTRAL HARLEM  WHITE        6.55\n",
            "    YEAR    NEIGHBORHOOD   RACE  PERCENTAGE\n",
            "33  1910  GREATER HARLEM  WHITE       95.64\n",
            "34  1920  GREATER HARLEM  WHITE       87.60\n",
            "35  1930  GREATER HARLEM  WHITE       67.78\n",
            "36  1940  GREATER HARLEM  WHITE       51.38\n",
            "37  1950  GREATER HARLEM  WHITE       41.89\n",
            "38  1960  GREATER HARLEM  WHITE       40.55\n",
            "39  1970  GREATER HARLEM  WHITE       34.44\n",
            "40  1980  GREATER HARLEM  WHITE       10.29\n",
            "41  1990  GREATER HARLEM  WHITE       10.85\n",
            "42  2000  GREATER HARLEM  WHITE       10.45\n",
            "43  2006  GREATER HARLEM  WHITE       14.80\n",
            "    YEAR NEIGHBORHOOD   RACE  PERCENTAGE\n",
            "55  1910          NYC  WHITE       98.12\n",
            "56  1920          NYC  WHITE       98.39\n",
            "57  1930          NYC  WHITE       97.80\n",
            "58  1940          NYC  WHITE       97.10\n",
            "59  1950          NYC  WHITE       94.03\n",
            "60  1960          NYC  WHITE       88.62\n",
            "61  1970          NYC  WHITE       79.62\n",
            "62  1980          NYC  WHITE       53.98\n",
            "63  1990          NYC  WHITE       44.74\n",
            "64  2000          NYC  WHITE       36.11\n",
            "65  2006          NYC  WHITE       36.06\n",
            "    YEAR    NEIGHBORHOOD   RACE  PERCENTAGE\n",
            "0   1910  CENTRAL HARLEM  BLACK        9.89\n",
            "1   1920  CENTRAL HARLEM  BLACK       32.43\n",
            "2   1930  CENTRAL HARLEM  BLACK       70.18\n",
            "3   1940  CENTRAL HARLEM  BLACK       89.31\n",
            "4   1950  CENTRAL HARLEM  BLACK       98.07\n",
            "5   1960  CENTRAL HARLEM  BLACK       96.71\n",
            "6   1970  CENTRAL HARLEM  BLACK       95.42\n",
            "7   1980  CENTRAL HARLEM  BLACK       94.17\n",
            "8   1990  CENTRAL HARLEM  BLACK       87.55\n",
            "9   2000  CENTRAL HARLEM  BLACK       77.49\n",
            "10  2006  CENTRAL HARLEM  BLACK       69.27\n",
            "    YEAR    NEIGHBORHOOD   RACE  PERCENTAGE\n",
            "22  1910  GREATER HARLEM  BLACK        4.28\n",
            "23  1920  GREATER HARLEM  BLACK       12.28\n",
            "24  1930  GREATER HARLEM  BLACK       34.82\n",
            "25  1940  GREATER HARLEM  BLACK       48.32\n",
            "26  1950  GREATER HARLEM  BLACK       57.52\n",
            "27  1960  GREATER HARLEM  BLACK       58.53\n",
            "28  1970  GREATER HARLEM  BLACK       63.53\n",
            "29  1980  GREATER HARLEM  BLACK       58.76\n",
            "30  1990  GREATER HARLEM  BLACK       52.37\n",
            "31  2000  GREATER HARLEM  BLACK       46.03\n",
            "32  2006  GREATER HARLEM  BLACK       40.54\n",
            "    YEAR NEIGHBORHOOD   RACE  PERCENTAGE\n",
            "44  1910          NYC  BLACK        1.73\n",
            "45  1920          NYC  BLACK        1.46\n",
            "46  1930          NYC  BLACK        1.99\n",
            "47  1940          NYC  BLACK        2.65\n",
            "48  1950          NYC  BLACK        5.64\n",
            "49  1960          NYC  BLACK       10.71\n",
            "50  1970          NYC  BLACK       18.48\n",
            "51  1980          NYC  BLACK       22.20\n",
            "52  1990          NYC  BLACK       22.93\n",
            "53  2000          NYC  BLACK       23.67\n",
            "54  2006          NYC  BLACK       23.40\n"
          ],
          "name": "stdout"
        }
      ]
    },
    {
      "cell_type": "code",
      "metadata": {
        "colab": {
          "base_uri": "https://localhost:8080/",
          "height": 784
        },
        "id": "cq7Rsy-0MMjU",
        "cellView": "form",
        "outputId": "9ac47ee2-5004-4184-d74b-dbe782c4d7fd"
      },
      "source": [
        "#@markdown Population in Harlem\n",
        "#plotting\n",
        "with plt.style.context('seaborn-pastel'):\n",
        "  plt.rc('lines', linewidth = .6)\n",
        "\n",
        "  plt.figure(dpi=100)\n",
        "\n",
        "  plt.plot(whitepop_charlem.YEAR, whitepop_charlem.PERCENTAGE)\n",
        "  plt.plot(whitepop_gharlem.YEAR, whitepop_gharlem.PERCENTAGE)\n",
        "  plt.plot(whitepop_nyc.YEAR, whitepop_nyc.PERCENTAGE)\n",
        "  plt.legend(['Greater Harlem','Central Harlem','Rest of NYC'], loc = \"upper right\", fontsize =  'x-small')\n",
        "  plt.xlabel('Year')\n",
        "  plt.ylabel('Percentage')\n",
        "  plt.title('White Population in Harlem')\n",
        "  plt.show()\n",
        "  \n",
        "with plt.style.context('seaborn-pastel'):\n",
        "  plt.rc('lines', linewidth = .8)\n",
        "  \n",
        "  plt.figure(dpi=100)\n",
        "  plt.plot(blackpop_charlem.YEAR, blackpop_charlem.PERCENTAGE)\n",
        "  plt.plot(blackpop_gharlem.YEAR, blackpop_gharlem.PERCENTAGE)\n",
        "  plt.plot(blackpop_nyc.YEAR, blackpop_nyc.PERCENTAGE)\n",
        "  plt.xlabel('Year')\n",
        "  plt.ylabel('Percentage')\n",
        "  plt.title('Black Population in Harlem')\n",
        "  plt.legend(['Greater Harlem','Central Harlem','Rest of NYC'], loc = \"upper right\", fontsize = 'x-small')\n",
        "  plt.show()"
      ],
      "execution_count": null,
      "outputs": [
        {
          "output_type": "stream",
          "text": [
            "White Population: \n"
          ],
          "name": "stdout"
        },
        {
          "output_type": "display_data",
          "data": {
            "image/png": "[encoded data removed]",
            "text/plain": [
              "<Figure size 600x400 with 1 Axes>"
            ]
          },
          "metadata": {
            "tags": [],
            "needs_background": "light"
          }
        },
        {
          "output_type": "stream",
          "text": [
            "Black Population: \n"
          ],
          "name": "stdout"
        },
        {
          "output_type": "display_data",
          "data": {
            "image/png": "[encoded data removed]",
            "text/plain": [
              "<Figure size 600x400 with 1 Axes>"
            ]
          },
          "metadata": {
            "tags": [],
            "needs_background": "light"
          }
        }
      ]
    },
    {
      "cell_type": "markdown",
      "metadata": {
        "id": "sWwS8iAjnmF8"
      },
      "source": [
        "It is essential to recognize that although incredible achievements in Harlem's arts and culture occurred during these years, the housing and segregated conditions were severely biased and inadequate. In the 1910s and 20s, as a new typology, the New Law Tenement was being constructed. As determined by a 1935 survey conducted by the Housing Authority comparing rents in Harlem to the Lower East Side, many owners either excluded Blacks from renting property or capitalized on an exploitative model charging more than twice the fair market rent. Through the 1920s, due to the Great Migration, Harlem became the center of African American life in New York and the US. Since Harlem was one of the few areas Blacks were permitted to rent in, available residential properties quickly became overcrowded, resulting in some of NYC’s densest neighborhoods. The density, like the rent, had upwards of three times the population of similar areas. Overcrowding and blatant segregation led to quickly deteriorating buildings that were predominantly owned by white absentee landlords. In the 1930s, when the government instituted new economic incentives to reverse the effects of the Depression, the Federal Housing Administration (FHA) used a system of color-coded maps to identify areas that Home Owners' Loan Corporation (HOLC) should protect banks when lending in. In general, racially integrated areas were considered a risk. Because Harlem had a majority Black population, it received a \"D\" with a redline delineating its edges.\n"
      ]
    },
    {
      "cell_type": "markdown",
      "metadata": {
        "id": "B74ztckEdk9E"
      },
      "source": [
        "This structural divestment left Harlem highly vulnerable to gentrification. Even if 1968 brought the Fair Housing Act, central Harlem did not afford that same housing investment opportunity as the white suburbs did decades before. By this time, increased zoning was no longer an appropriate remedy since Harlem had experienced a significant population loss largely due to shifting manufacturing economies in NYC. Abandonment and vacancies skyrocketed, threatening negative indices for investment to an average resident hoping to build personal wealth.  As the city sold off huge swaths of housing in Harlem, a NYT article reported that the city didn't give the long-time residents enough of an advantage compared to outside investors. When investors began to repurchase the property, they used their clout and leverage to influence public policy that enforced laws that helped add value to their investments by changing the neighborhood and rebranding it. \n",
        "\n",
        "The lack of development money indicated that the lackluster building market was preventing growth. As neighborhood growth and lending are possible, the rate of tenure increases as tenants who had moved to NY a decade earlier gain a foothold and begin to invest in their neighborhood. This investment isn't other real estate holdings, and building new construction was all but institutionally made impossible. The dearth of capital circulating in the neighborhood has resulted in rates of homeownership 10% lower than the NYC average. This gap effectively locked the Black population of Harlem out of a primary means of growing generational wealth. This motley agglomeration of divestment is a critical issue our proposal intends to address. \n",
        "\n",
        "The Harlem community might be able to reach a consensus that additional affordable housing is needed. In many cases, however, districts that faced institutional pressure are particularly concerned about change. In many of these communities, resources such as schools, hospitals, and services are already in short supply. As an example, East Halem organized opposition to upzoning. We are attempting to address the concerns of \"price-out\" by offering a system of asset ownership. The intent is for occupants of certain blocks, with ownership stakes, to enthusiastically endorse additional housing. \n",
        "\n",
        "The turbulent history of housing and discriminatory government policies faced by residents of Harlem forces us to grapple with how we might begin to repair the damages wrought on this venerable neighborhood. The working group submits the following proposal to the residents of Harlem, the government of the City of New York, and all other parties concerned with the future of Harlem.    \n",
        "\n",
        "### **Primary Goals**\n",
        "\n",
        "\n",
        "*   The primary thrust of our project is to generate housing in Harlem. This housing is intended to offer a range of levels of affordability and be distributed throughout the neighborhood, with concentration in areas close to economic activity and transit links. The working group is highly sensitive to the potential for displacement directly or tangentially related to new development, and our proposal is specially tuned to keep existing residents in place, while also limiting the appeal of speculative real estate practices which increase land costs and artificially depress supply.\n",
        "\n",
        "*   The structural disparities discussed above make it clear that this project must target its benefits, real and financial, towards legacy residents of Harlem. We maintain that a flat “equal access” does not adequately address the embedded disadvantages many Harlem residents have faced for generations. \n",
        "\n",
        "*   It is critical that any developments we pursue are desirable to a critical mass of community members. This applies to a range of considerations such as construction impact, affordability profile, physical appearance, contextual form, and even ownership structure. We recognize the need for an agile framework that efficiently addresses these factors (and many more) without flattening the weave of their relationships.\n",
        "\n",
        "\n",
        " \n",
        "\n",
        "\n",
        "\n"
      ]
    },
    {
      "cell_type": "markdown",
      "metadata": {
        "id": "M1z9fBVCII5Q"
      },
      "source": [
        "### **Project Introduction** \n",
        "\n",
        "Through our research on the impact of zoning on Harlem, and guided by our primary goals, the working group has arrived at a two part proposal which establishes a novel exchange for facilitating community owned development and advances a contextually defined structural program sited in air rights above existing buildings. In the following sections these projects — BitLot and AirLot respectively — will be presented separately, followed by analysis of the profound potential of the tools when paired. \n",
        "\n",
        "\n",
        "### ***BitLot***\n",
        "\n",
        "In order to coordinate the highly complex demands of developing housing in New York City, we propose the creation of BitLot, a community corporation responsible for developing and managing the unique assets to be created. Upon incorporation, BitLot will be charged with the following mandates within its charter. \n",
        "*  Develop affordable housing in Harlem\n",
        "*  Creation of real and financial assets for legacy residents of Harlem\n",
        "*  Foster the built and cultural assets of Harlem, existing and future\n",
        "\n",
        "Faced with these mandates, BitLot will need to fulfill a variety of roles in the development and management process. This consolidation will improve efficiency by eliminating the exorbitant costs of middle party actors like brokers, expediters, and many others prevalent in NYC real estate dealings. The corporation’s broad responsibilities are listed below, followed by explorations of the implications and manifestations of each component. \n",
        "*  Establish an interface with which BitLot participants can view and manage their BitLot related assets, view and contribute to proposed BitLot developments, and review the performance of operating BitLot properties.\n",
        "*  Aggregate unbuilt air rights from properties within Harlem.\n",
        "*  Raise capital from community investors, impact investors, tax credits, and other preferential sources for affordable housing.\n",
        "*  Develop and maintain built structures primarily for affordable housing, but including further community amenities as requested and feasible.\n",
        "*  Manage real and financial assets generated by the developments with a viable and sustainable approach.\n",
        "\n",
        "\n",
        "#### **BitLot Platform and its Basic Operations**\n",
        "As listed above, BitLot is tasked with a complex suite of responsibilities. To make its operations transparent and accessible to the community members it serves, a foundational project for BitLot is the development of an interface where the community can interact with developments and financial assets. This will initially take the form of a digital platform, accessible by a web browser and native app, followed by a network of access resources at public libraries to ensure residents with limited internet access or digital literacy can participate in BitLot programs. The basic actions facilitated by the BitLot platform are as follows.\n",
        "*  Viewing the status and/or performance of proposed and operating BitLot developments\n",
        "*  Managing an individual user’s BitLot assets, including development rights and capital investments.\n",
        "This would include capabilities such as:\n",
        "*    Choosing prospective developments to “pledge” air rights towards\n",
        "*    Choosing prospective developments to invest capital in. This process includes an interactive design tool, which participants can use to adjust variables and see the impact on their return, housing provided, and other outcomes.\n",
        "*    Viewing and distributing returns on investments - reinvesting, cashing out, etc. \n",
        "\n",
        "The BitLot platform will allow for regular and transparent interactions between BitLot and community shareholders/stakeholders. Shareholders will be primed on legal and financial principles that they are operating within, such as the implications of transferring air rights, capital gains taxes, and other relevant knowledge to ensure participants clearly understand the impact of their decisions. Wherever possible, the platform will simplify the legal and financial transaction's participants are taking, lowering the bar for financial and urban self determination. Where this is not possible, actions on the platform, such as “pledging” air rights, will remain symbolic actions until such a time they must become binding i.e. when a development receives enough support to proceed, the participant will be prompted to complete the full legal process, with a final opportunity to reconsider. The BitLot platform is essentially the public face of BitLot, a critical juncture where the opaque machinations of capital, land use, and community are able to work for the benefit of community members. "
      ]
    },
    {
      "cell_type": "markdown",
      "metadata": {
        "id": "dfEYApUagPcA"
      },
      "source": [
        "\n",
        "#### **The Aggregation of Air Rights**\n",
        "As referenced in the introduction, property owners in Harlem hold millions of square feet of air rights as defined by current zoning regulations. Currently over 80% of those air rights are less than 10,000 SF per lot, rendering them functionally and fiscally unusable due to the inefficiencies of retrofitting a single existing building or lot. A critical function BitLot serves is freeing those air rights from their individual sites and leveraging them to develop affordable housing. We anticipate this can be achieved in collaboration with Harlem property owners, Harlem residents, NYC Department of City Planning (DCP), Department of Buildings, and Department of Finance. By keeping development, financing and design in-house, BitLot will operate as the common party amongst these various agencies, ensuring coherence and minimizing redundancies across agencies. \n",
        "\n",
        "There are several critical allowances BitLot will need to secure from DCP to ensure the viability of the project\n",
        "\n",
        "* The creation of a Harlem Special Transfer District (HSTD) which allows for the transfer of air rights to pre-approved areas of Harlem with certification of transfer only.\n",
        "* A standard DCP certification for BitLot developments which conform to an established set of considerations for each site, pre approved by DCP. These considerations are explored in further detail in the AirLot portion of this paper. \n",
        "* The establishment of an Equity Bonus — the provision of additional buildable FAR for developments in Harlem on the condition that partial ownership of the proceeds from that bonus is distributed to Harlem residents deemed eligible for reparative benefits. BitLot’s ability to facilitate such a distribution is discussed later in this section.\n",
        "\n",
        "We recognize that these allowances require significant deliberation for DCP and many other stakeholders. However each element has precedent in NYC planning history, and the benefits of these allowances in serving the goals of DCP, the greater community, and BitLot outweigh the administrative inertia which may slow their passage. \n",
        "There are three principle means through which BitLot will be able to collect air rights. \n",
        "*  Owners of air rights invest in a chosen BitLot project in return for either rights to monthly dividends from the development, or partial ownership of the project. \n",
        "*  Holders of Equity Bonus air rights invest in a chosen BitLot project.\n",
        "*  Donated or purchased air rights — while not expected to comprise a significant portion of BitLot’s portfolio, situations may arise where these options are desirable or unavoidable.\n",
        "The first two modes will prove highly important to BitLot’s program. By treating air rights as investments, or essentially loans, payable in ownership or dividends, BitLot is able to eliminate the exorbitantly high cost of developable land in Manhattan from its balance sheets. \n",
        "\n",
        "With these provisions in place, BitLot would be positioned to solicit, purchase, or otherwise receive unused air rights from sites around Harlem, receive Equity Bonus FAR, and deploy through transfers, selected portions of these air rights at sites around Harlem to develop new affordable housing. Unlocking these air rights creates a foundation of assets from which BitLot can begin to fulfill its stated goals. \n"
      ]
    },
    {
      "cell_type": "markdown",
      "metadata": {
        "id": "xHhXi9Guguqc"
      },
      "source": [
        "\n",
        "#### **Raising Capital**\n",
        "Air rights are of little use without the capital to develop them. The working group has identified several sources of capital, both internally and externally generated, which BitLot could use to fund the construction of its developments. Several of the internal means for BitLot to raise capital were referenced in the Platform portion, but will be explored in further detail here. We will briefly discuss the external, and generally traditional sources of capital for affordable housing, followed by deeper exploration of BitLot’s more innovative approaches to raising capital directly.\n",
        "\n",
        "By developing projects consisting of a majority of affordable housing, BitLot is eligible for several federal and municipal subsidies which we project can comprise up to 60% of the capital demands of the projects. Thanks to the elimination of land cost in BitLot projects, LIHTC equity will absorb a higher than usual percentage of development costs. The inclusion of responsible energy technologies such as heat pumps qualifies for a likely increasing bucket of federal financing, while also reducing operating costs significantly. Thanks to our distributed ownership model and commitment to permanent affordability we anticipate receiving significant municipal support in the form of tax exemptions, similar to Article XI exemptions received by HDFCs. Finally, BitLot developments are an excellent fit for mission driven investing companies such as Community Preservation Corporation which offer low interest, preferential loans to build affordable housing and community assets. We expect these external inputs to generate on average 75% of the capital demands for a given BitLot development, likely more in early developments, and ideally a smaller proportion as BitLot participants increase and more developments come on line, see Appendix B for detail.\n",
        "\n",
        "BitLot is mandated to create “real and financial assets for legacy residents of Harlem”. To facilitate this the working group has developed a novel participatory financing structure. The BitLot platform will offer a venue for individuals to directly invest capital in BitLot developments they would like to see proceed. Participants can scroll through a portfolio of proposed projects and invest amounts as low as $25 in projects of their choice. As mentioned above, legacy Harlem residents are eligible to receive air rights from the Equity Bonus FAR offered by the city which they can similarly invest in preferred projects, allowing residents without access to liquid capital to realize benefits from BitLot developments. These investments would bottom out at 1000 SF — approximately one apartment unit — in order to ensure development right transfers are sufficiently large to increase operating revenue.\n",
        "\n",
        "In order to secure maximum capital for BitLot, investing is open to the general public, however the gains and shape of development must be controlled by Harlem residents. To address this we propose a tiered buy-in system, whereby Harlem residents receive 1:1 buy in on their investment dollar (or potentially even a preferred 1:0.8 for targeted residents), while participants from other neighborhoods, states, countries, see reduced returns on their investment 1:1.2, 1:2, etc. Additionally, to prevent non-resident investors from having too much influence on the shape of the neighborhood, only residents of Harlem would be able to target their investments by project. "
      ]
    },
    {
      "cell_type": "markdown",
      "metadata": {
        "id": "iQ9wHnJgg9e4"
      },
      "source": [
        "#### **Eligibility**\n",
        "\n",
        "A major concern of BitLot and the changes it seeks to implement in the zoning laws of Harlem, is ensuring that all eligible residents have an opportunity to participate in the program, and that the opportunities created by these programs are not manipulated, co-opted or otherwise exploited. This brings us to the thorny issue of how eligibility is determined without forcing participants into onerous and invasive verification procedures. To confirm user identities BitLot will look closely at distributed verification tools being developed like BrightId, which verify unique users without associating private information. As with all discussions around reparative programs, determining eligibility can quickly devolve to drawing lines in the sand. We can begin by affirming that Black residents of Harlem in the first half of the 20th century (when redlining was at its most explicit and potent) and their descendants will be eligible. Beyond that there is likely a range of categories of residents with varied backgrounds who might also receive preferred benefits. To handle the navigation of this critical topic, we recommend convening a task force with the sole responsibility of determining eligibility for reparative benefits. Documents found in government, commercial, and church records and US Census can serve as tools to develop past addresses. Through a network of community elders, social and church groups, there is an opportunity to identify the descendants of the historic community entitled to a stake in its future. \n",
        "\n",
        "#### **BitLot Products**\n",
        "This section will briefly explain the financial products managed by BitLot, these products are associated with the buildings BitLot develops and exist in a symbiotic relationship with the built structures. BitLot’s financial products are the vehicle through which it distributes financial benefits in a reparative manner to Harlem residents. When targeting investments on the BitLot platform, eligible participants are able to choose between two types of products they would like to purchase. \n",
        "\n",
        "*  Dividend stocks offer monthly cash returns to holders, gotten from the operating income of the target development. Returns are proportionate to the percentage of capital investment made, or percentage of air rights contributed to the development. We are strongly considering offering these stocks to residents of the host sites for new BitLot developments, regardless of their tenure type, as a means of compensation for the construction inconveniences. These cash returns can be reinvested in other BitLot developments, but we anticipate a critical function they will serve is as a cash infusion for recipients of the Equity Bonus air rights. Sale and transfer of these stocks within the BitLot platform may be feasible, however more study is needed to determine the impact of this fluidity.\n",
        "\n",
        "*  Bonds do not pay dividends, but offer an opportunity for community investors to reliably grow wealth over time and invest in their community. These can be purchased at any point in the lifetime of a project, transferred to other BitLot Projects, or cashed out at a rate of return proportional to the length of time the bond was held (longer bond is held, larger returns). \n",
        "\n",
        "BitLot will operate as an agile, responsive, and mission driven community corporation. Through harnessing unbuilt development assets, it is able to develop community endorsed and owned housing using the working team’s parallel tool, AirLot."
      ]
    },
    {
      "cell_type": "markdown",
      "metadata": {
        "id": "ZrOZDu-qhQjM"
      },
      "source": [
        "\n",
        "### **AirLot**\n",
        "\n",
        "AirLot is the building program which pairs with the BitLot platform to design and construct structures. The airspace above existing structures is analyzed to identify opportunities for densification with minimal impact to the built fabric below. Parametric design tools are utilized to produce insight across a range of options from which the investors and stakeholders can make selections. Inputs such as sky-exposure planes, solar orientation, and the preservation of access to existing light wells generate outputs such as the number of units created, estimated cost, potential profit distributions. BitLot participants are able to use the information and vote on criteria and proposed developments, creating a range of outcomes which scale to create a network of space and services for the Harlem community.                           \n",
        "\n",
        "##### **Site Research**\n",
        "\n",
        "One of the first steps taken in the research towards this project was the definition and identification of appropriate receiving sites for BitLot developments. Over 300 potential sites were located based on these criteria as depicted in Figure d.\n",
        "\n",
        "*  Manhattan Community Districts 9, 10, and 11\n",
        "*  Privately owned land\n",
        "*  Institutions excluded (Columbia etc.)\n",
        "*  Religious holdings excluded\n",
        "*  Minimum three contiguous lots\n",
        "*  Same number of floors\n",
        "*  2000 minimum available SF/lot\n",
        "*  Vacant lots excluded\n",
        "*  Existing residential use\n",
        "\n",
        "##### **Massing Rules and Community Fit**\n",
        "In order to efficiently determine appropriate massing for a chosen site, AirLot plans to develop a series of criteria in collaboration with local community boards in order to minimize potential negative impacts on existing buildings, streets, and residents and provide maximum flexibility in determining what is contextually appropriate Some speculative criteria are outlined below.\n",
        "\n",
        "**Quantitative**\n",
        "\n",
        "*  Affordability profile \n",
        "*  Rate of return for community investors\n",
        "*  Lightwell access for host buildings\n",
        "*  Available space for foundations \n",
        "*  Construction efficiency \n",
        "*  Street width\n",
        "*  Unit density\n",
        "*  Solar interference/incidence\n",
        "*  Accessibility (age & physical abilities)\n",
        "*  Mean contiguous block height \n",
        "*  Open space (on lot)\n",
        "*  Tree quantity \n",
        "*  Transit access \n",
        "*  Landmark District\n",
        "*  Qualitative \n",
        "*  Needs (community space, housing, commercial)\n",
        "*  Historical relevance/character\n",
        "*  Use level (intensity)         \n",
        "*  Prominent uses (type)                \n",
        "*  Verdancy & vegetation (perceived)\n",
        "*  Walkability\n",
        "\n",
        "Appendix A contains several results of defining the structural massing with these parameters —  thanks to the richness of variables, we arrive at a collection of unique structures, shaped by the context of the host site, and the desires of community stakeholders. \n"
      ]
    },
    {
      "cell_type": "markdown",
      "metadata": {
        "id": "jg4H_spWlKO4"
      },
      "source": [
        "\n",
        "**Construction Techniques**\n",
        "AirLot recognizes that building a structure lofted above existing buildings introduces a number of unique construction concerns. Below we address several of the most pressing, such as the primary structural strategy, secondary build out techniques, and material considerations. These suggestions negotiate the relationships between cost efficiency, construction time, environmental considerations, and structural integrity. They are to be understood as recommendations for further study to be adapted for varied site conditions, rather than inflexible final answers. \n",
        " \n",
        "Once the additional air rights are consolidated, AirLot finds a suitable location to construct a new ground. We suggest the construction of either engineered platforms or trusses that span over the rooftops of the existing buildings. Our cost analysis found that the construction of the platform was most efficient. This acts as fresh ground, and the reinforced concrete platform is performative in terms of structural capacity, material austerity, and fire resistance. \n",
        "\n",
        "The alternative, trusses, allow for flexibility and are also integrated utilities and services. During erection, the large space frame trusses will be delivered to an adjacent holding lot, bolted together in cubic sections, and then craned into position. By using CLT, cross laminated timber, we have robust members that can resist lateral loading and, due to the mass of the material, fire-resistance. \n",
        "\n",
        "After the platform or truss is constructed, which is the most intensive moment of construction, the housing structures are built using a hybrid of both modular and conventional systems on top of the new surface. \n",
        "\n",
        "The plug-and-play interface supports a hybrid modular and conventional construction arrangement. This hybridity meets the highest quality and performance standards at a lower cost than conventional construction alone. Capitalizing on the high-quality finish and seamless technology integration afforded by modular construction, the kitchen and bathroom spaces contribute 40% less waste and improved integration due to the streamlined factory fabrication. These prefabricated units stack along the MEP risers, and their crane-friendly modular size allows for a one-day crane and set, reducing the overhead working time experienced by the neighbors. These \"plug-in\" cores also allow for easier switch-out as innovations come to fruition. For the living, bedrooms, and dining areas, a conventional approach takes advantage of local labor. Conventional building techniques have a quick deployment and require less heavy craning and material rigging. With intelligent design and lightweight materials, we developed building systems that exceed NYC Building Code and Local Law 97 while providing wall systems that average 30% lighter than typical metal skin wall assemblies and 80% lighter than masonry bearing walls. The lightweight, high-efficiency wall and floor and ceiling systems use Structural Insulated Panels with high R-value foam.\n"
      ]
    },
    {
      "cell_type": "markdown",
      "metadata": {
        "id": "z3JWYhiJlL90"
      },
      "source": [
        "**Program Potential** \n",
        "\n",
        "As the AirLot network scales to produce a range of new structures across Harlem, the potential for non-housing programs and amenities increases. Certain spaces which lack the air and light necessary for living conditions can serve as gathering or service spaces. The specific use of these spaces is another variable for BitLot participants to help determine. A pool of potential programs is created with community input and emphasis on local circularity and the social environment. This includes things like day-cares and educational facilities as well as shared object libraries, fix-it shops, and opportunities for legacy businesses and institutions. Rather than an amenity being dedicated to the residents of that building, the non-housing programs form a distributed network of shared space. To meet initial demand for affordable housing, it is imagined that the earliest of developments would focus on this need, but as the AirLot network expands, residents and participants would gain access to an increasing amount of space with beneficial uses besides housing. \n"
      ]
    },
    {
      "cell_type": "markdown",
      "metadata": {
        "id": "0GP6JQ9Ny-N0"
      },
      "source": [
        "### **Projections and Further Work**\n",
        "\n",
        "\n",
        "If implemented at a neighborhood wide scale, the combined tools of BitLot and AirLot could generate over 10 million SF of new development, comprising more than 10,000 apartments, at an average 80% affordable to incomes appropriate to Harlem. Critically, these developments would have minimal impact on shading the streets, and distribute this additional capacity throughout the entire district, rather than creating heavy, out of context clusters which impose their presence on the neighborhood. In addition to affordable housing, the inclusion of an Equity Bonus FAR of 1 on each site has the potential to generate air rights with a market value of over $500,000,000. This value would circulate in the community through BitLot’s financial products, rather than being extracted by profit driven real estate interests. \n",
        "\n",
        "If not implemented, Harlem is projected to receive just over 900 affordable units through city initiatives since 2000. These units are distributed amongst 20 buildings averaging over ten stories in height and containing affordable apartments comprising only 35% of the total developed area. The low availability and high cost of vacant land in Harlem will continue to keep building costs exorbitantly high, with meager affordability allowances chiseled out by city policy which is yet to significantly impact neither affordable housing supply nor prevent displacement. By offering distributed, discrete, high affordability development, BitLot is an opportunity to change this bleak trajectory. "
      ]
    },
    {
      "cell_type": "code",
      "metadata": {
        "id": "7QF0FavugCtB",
        "colab": {
          "base_uri": "https://localhost:8080/"
        },
        "collapsed": true,
        "cellView": "form",
        "outputId": "796132be-62ed-43e3-ab8f-aa1b25c19c76"
      },
      "source": [
        "#@title\n",
        "!apt-get install -y python-rtree;\n",
        "!pip install geopandas sodapy shapely rtree cenpy;\n",
        "\n",
        "import os\n",
        "import pandas as pd\n",
        "import numpy as np\n",
        "import warnings\n",
        "warnings.filterwarnings(\"ignore\")\n",
        "import geopandas as gpd\n",
        "import matplotlib.pyplot as plt\n",
        "from sodapy import Socrata\n",
        "import cenpy\n",
        "import urllib.request, json \n"
      ],
      "execution_count": null,
      "outputs": [
        {
          "output_type": "stream",
          "text": [
            "Reading package lists... Done\n",
            "Building dependency tree       \n",
            "Reading state information... Done\n",
            "The following package was automatically installed and is no longer required:\n",
            "  libnvidia-common-460\n",
            "Use 'apt autoremove' to remove it.\n",
            "The following additional packages will be installed:\n",
            "  javascript-common libjs-jquery libjs-underscore libspatialindex-c4v5\n",
            "  libspatialindex-dev libspatialindex4v5 python-pkg-resources\n",
            "Suggested packages:\n",
            "  apache2 | lighttpd | httpd python-setuptools\n",
            "The following NEW packages will be installed:\n",
            "  javascript-common libjs-jquery libjs-underscore libspatialindex-c4v5\n",
            "  libspatialindex-dev libspatialindex4v5 python-pkg-resources python-rtree\n",
            "0 upgraded, 8 newly installed, 0 to remove and 34 not upgraded.\n",
            "Need to get 959 kB of archives.\n",
            "After this operation, 5,146 kB of additional disk space will be used.\n",
            "Get:1 http://archive.ubuntu.com/ubuntu bionic/main amd64 javascript-common all 11 [6,066 B]\n",
            "Get:2 http://archive.ubuntu.com/ubuntu bionic/main amd64 libjs-jquery all 3.2.1-1 [152 kB]\n",
            "Get:3 http://archive.ubuntu.com/ubuntu bionic-updates/main amd64 libjs-underscore all 1.8.3~dfsg-1ubuntu0.1 [60.4 kB]\n",
            "Get:4 http://archive.ubuntu.com/ubuntu bionic/universe amd64 libspatialindex4v5 amd64 1.8.5-5 [219 kB]\n",
            "Get:5 http://archive.ubuntu.com/ubuntu bionic/universe amd64 libspatialindex-c4v5 amd64 1.8.5-5 [51.7 kB]\n",
            "Get:6 http://archive.ubuntu.com/ubuntu bionic/main amd64 python-pkg-resources all 39.0.1-2 [128 kB]\n",
            "Get:7 http://archive.ubuntu.com/ubuntu bionic/universe amd64 libspatialindex-dev amd64 1.8.5-5 [285 kB]\n",
            "Get:8 http://archive.ubuntu.com/ubuntu bionic/universe amd64 python-rtree all 0.8.3+ds-1 [58.0 kB]\n",
            "Fetched 959 kB in 1s (1,203 kB/s)\n",
            "Selecting previously unselected package javascript-common.\n",
            "(Reading database ... 160706 files and directories currently installed.)\n",
            "Preparing to unpack .../0-javascript-common_11_all.deb ...\n",
            "Unpacking javascript-common (11) ...\n",
            "Selecting previously unselected package libjs-jquery.\n",
            "Preparing to unpack .../1-libjs-jquery_3.2.1-1_all.deb ...\n",
            "Unpacking libjs-jquery (3.2.1-1) ...\n",
            "Selecting previously unselected package libjs-underscore.\n",
            "Preparing to unpack .../2-libjs-underscore_1.8.3~dfsg-1ubuntu0.1_all.deb ...\n",
            "Unpacking libjs-underscore (1.8.3~dfsg-1ubuntu0.1) ...\n",
            "Selecting previously unselected package libspatialindex4v5:amd64.\n",
            "Preparing to unpack .../3-libspatialindex4v5_1.8.5-5_amd64.deb ...\n",
            "Unpacking libspatialindex4v5:amd64 (1.8.5-5) ...\n",
            "Selecting previously unselected package libspatialindex-c4v5:amd64.\n",
            "Preparing to unpack .../4-libspatialindex-c4v5_1.8.5-5_amd64.deb ...\n",
            "Unpacking libspatialindex-c4v5:amd64 (1.8.5-5) ...\n",
            "Selecting previously unselected package python-pkg-resources.\n",
            "Preparing to unpack .../5-python-pkg-resources_39.0.1-2_all.deb ...\n",
            "Unpacking python-pkg-resources (39.0.1-2) ...\n",
            "Selecting previously unselected package libspatialindex-dev:amd64.\n",
            "Preparing to unpack .../6-libspatialindex-dev_1.8.5-5_amd64.deb ...\n",
            "Unpacking libspatialindex-dev:amd64 (1.8.5-5) ...\n",
            "Selecting previously unselected package python-rtree.\n",
            "Preparing to unpack .../7-python-rtree_0.8.3+ds-1_all.deb ...\n",
            "Unpacking python-rtree (0.8.3+ds-1) ...\n",
            "Setting up libjs-jquery (3.2.1-1) ...\n",
            "Setting up libspatialindex4v5:amd64 (1.8.5-5) ...\n",
            "Setting up libjs-underscore (1.8.3~dfsg-1ubuntu0.1) ...\n",
            "Setting up python-pkg-resources (39.0.1-2) ...\n",
            "Setting up libspatialindex-c4v5:amd64 (1.8.5-5) ...\n",
            "Setting up javascript-common (11) ...\n",
            "Setting up libspatialindex-dev:amd64 (1.8.5-5) ...\n",
            "Setting up python-rtree (0.8.3+ds-1) ...\n",
            "Processing triggers for libc-bin (2.27-3ubuntu1.2) ...\n",
            "/sbin/ldconfig.real: /usr/local/lib/python3.7/dist-packages/ideep4py/lib/libmkldnn.so.0 is not a symbolic link\n",
            "\n",
            "Collecting geopandas\n",
            "\u001b[?25l  Downloading https://files.pythonhosted.org/packages/d7/bf/e9cefb69d39155d122b6ddca53893b61535fa6ffdad70bf5ef708977f53f/geopandas-0.9.0-py2.py3-none-any.whl (994kB)\n",
            "\u001b[K     |████████████████████████████████| 1.0MB 5.1MB/s \n",
            "\u001b[?25hCollecting sodapy\n",
            "  Downloading https://files.pythonhosted.org/packages/9e/74/95fb7d45bbe7f1de43caac45d7dd4807ef1e15881564a00eef489a3bb5c6/sodapy-2.1.0-py2.py3-none-any.whl\n",
            "Requirement already satisfied: shapely in /usr/local/lib/python3.7/dist-packages (1.7.1)\n",
            "Collecting rtree\n",
            "\u001b[?25l  Downloading https://files.pythonhosted.org/packages/51/05/5a67111cee91d2165a2bcb855f442186e3d76ddef834596cc84d4875c401/Rtree-0.9.7-cp37-cp37m-manylinux2010_x86_64.whl (994kB)\n",
            "\u001b[K     |████████████████████████████████| 1.0MB 24.9MB/s \n",
            "\u001b[?25hCollecting cenpy\n",
            "  Downloading https://files.pythonhosted.org/packages/d8/92/f2787e5dc2f6db9c16e287b38d1978298cc1192d2389244cc0b21f9418ce/cenpy-1.0.0.post4.tar.gz\n",
            "Collecting pyproj>=2.2.0\n",
            "\u001b[?25l  Downloading https://files.pythonhosted.org/packages/b1/72/d52e9ca81caef056062d71991b0e9b1d16af042245627c5d0e4916a36c4f/pyproj-3.0.1-cp37-cp37m-manylinux2010_x86_64.whl (6.5MB)\n",
            "\u001b[K     |████████████████████████████████| 6.5MB 34.2MB/s \n",
            "\u001b[?25hCollecting fiona>=1.8\n",
            "\u001b[?25l  Downloading https://files.pythonhosted.org/packages/ea/2a/404b22883298a3efe9c6ef8d67acbf2c38443fa366ee9cd4cd34e17626ea/Fiona-1.8.19-cp37-cp37m-manylinux1_x86_64.whl (15.3MB)\n",
            "\u001b[K     |████████████████████████████████| 15.3MB 223kB/s \n",
            "\u001b[?25hRequirement already satisfied: pandas>=0.24.0 in /usr/local/lib/python3.7/dist-packages (from geopandas) (1.1.5)\n",
            "Requirement already satisfied: requests>=2.20.0 in /usr/local/lib/python3.7/dist-packages (from sodapy) (2.23.0)\n",
            "Requirement already satisfied: numpy in /usr/local/lib/python3.7/dist-packages (from cenpy) (1.19.5)\n",
            "Requirement already satisfied: six in /usr/local/lib/python3.7/dist-packages (from cenpy) (1.15.0)\n",
            "Collecting fuzzywuzzy\n",
            "  Downloading https://files.pythonhosted.org/packages/43/ff/74f23998ad2f93b945c0309f825be92e04e0348e062026998b5eefef4c33/fuzzywuzzy-0.18.0-py2.py3-none-any.whl\n",
            "Collecting libpysal\n",
            "\u001b[?25l  Downloading https://files.pythonhosted.org/packages/cc/e9/36be6aeea8b6d6ac797c656e1f80bdaddc075d049433495680432d9aedd9/libpysal-4.4.0-py3-none-any.whl (2.4MB)\n",
            "\u001b[K     |████████████████████████████████| 2.4MB 30.1MB/s \n",
            "\u001b[?25hRequirement already satisfied: certifi in /usr/local/lib/python3.7/dist-packages (from pyproj>=2.2.0->geopandas) (2020.12.5)\n",
            "Collecting munch\n",
            "  Downloading https://files.pythonhosted.org/packages/cc/ab/85d8da5c9a45e072301beb37ad7f833cd344e04c817d97e0cc75681d248f/munch-2.5.0-py2.py3-none-any.whl\n",
            "Collecting click-plugins>=1.0\n",
            "  Downloading https://files.pythonhosted.org/packages/e9/da/824b92d9942f4e472702488857914bdd50f73021efea15b4cad9aca8ecef/click_plugins-1.1.1-py2.py3-none-any.whl\n",
            "Requirement already satisfied: attrs>=17 in /usr/local/lib/python3.7/dist-packages (from fiona>=1.8->geopandas) (21.2.0)\n",
            "Requirement already satisfied: click<8,>=4.0 in /usr/local/lib/python3.7/dist-packages (from fiona>=1.8->geopandas) (7.1.2)\n",
            "Collecting cligj>=0.5\n",
            "  Downloading https://files.pythonhosted.org/packages/42/1e/947eadf10d6804bf276eb8a038bd5307996dceaaa41cfd21b7a15ec62f5d/cligj-0.7.1-py3-none-any.whl\n",
            "Requirement already satisfied: pytz>=2017.2 in /usr/local/lib/python3.7/dist-packages (from pandas>=0.24.0->geopandas) (2018.9)\n",
            "Requirement already satisfied: python-dateutil>=2.7.3 in /usr/local/lib/python3.7/dist-packages (from pandas>=0.24.0->geopandas) (2.8.1)\n",
            "Requirement already satisfied: urllib3!=1.25.0,!=1.25.1,<1.26,>=1.21.1 in /usr/local/lib/python3.7/dist-packages (from requests>=2.20.0->sodapy) (1.24.3)\n",
            "Requirement already satisfied: idna<3,>=2.5 in /usr/local/lib/python3.7/dist-packages (from requests>=2.20.0->sodapy) (2.10)\n",
            "Requirement already satisfied: chardet<4,>=3.0.2 in /usr/local/lib/python3.7/dist-packages (from requests>=2.20.0->sodapy) (3.0.4)\n",
            "Requirement already satisfied: beautifulsoup4 in /usr/local/lib/python3.7/dist-packages (from libpysal->cenpy) (4.6.3)\n",
            "Requirement already satisfied: scipy>=0.11 in /usr/local/lib/python3.7/dist-packages (from libpysal->cenpy) (1.4.1)\n",
            "Requirement already satisfied: jinja2 in /usr/local/lib/python3.7/dist-packages (from libpysal->cenpy) (2.11.3)\n",
            "Requirement already satisfied: MarkupSafe>=0.23 in /usr/local/lib/python3.7/dist-packages (from jinja2->libpysal->cenpy) (1.1.1)\n",
            "Building wheels for collected packages: cenpy\n",
            "  Building wheel for cenpy (setup.py) ... \u001b[?25l\u001b[?25hdone\n",
            "  Created wheel for cenpy: filename=cenpy-1.0.0.post4-cp37-none-any.whl size=29912 sha256=04b043d2b8028706b49d6ae6138735f5f6085dd2273b98b6a64abe7a5ee4a398\n",
            "  Stored in directory: /root/.cache/pip/wheels/e6/43/74/d7ee11e176d530b2ea22243e15c95c1f25b339f680e161cb3c\n",
            "Successfully built cenpy\n",
            "Installing collected packages: pyproj, munch, click-plugins, cligj, fiona, geopandas, sodapy, rtree, fuzzywuzzy, libpysal, cenpy\n",
            "Successfully installed cenpy-1.0.0.post4 click-plugins-1.1.1 cligj-0.7.1 fiona-1.8.19 fuzzywuzzy-0.18.0 geopandas-0.9.0 libpysal-4.4.0 munch-2.5.0 pyproj-3.0.1 rtree-0.9.7 sodapy-2.1.0\n"
          ],
          "name": "stdout"
        }
      ]
    },
    {
      "cell_type": "code",
      "metadata": {
        "id": "giyrk_wBf_Ho",
        "colab": {
          "base_uri": "https://localhost:8080/",
          "height": 282
        },
        "cellView": "form",
        "outputId": "3b11fbfe-4d22-45fe-a5e7-1f6bd87005e0"
      },
      "source": [
        "#@markdown New Construction in Manhattan\n",
        "#use socrata personal key, ref. housing data\n",
        "client = Socrata(\"data.cityofnewyork.us\", 'S8JvsbGoDguEN16oahuM1PMae')\n",
        "housing_stock = client.get(\"hg8x-zxpr\", limit=2000)\n",
        "housing_df = pd.DataFrame.from_records(housing_stock)\n",
        "housing_df.head()\n",
        "\n",
        "#isolatiing new construction\n",
        "newconst = housing_df[housing_df['reporting_construction_type']=='New Construction']\n",
        "newconst.head()\n",
        "\n",
        "#isolating Manhattan new construction\n",
        "MNnewconst = newconst[newconst['borough']=='Manhattan']\n",
        "MNnewconst\n",
        "\n",
        "#organization by targeted income group\n",
        "exlownc = MNnewconst[MNnewconst['extremely_low_income_units'] !='0']\n",
        "vlownc=MNnewconst[MNnewconst['very_low_income_units'] !='0']\n",
        "lownc= MNnewconst[MNnewconst['low_income_units'] !='0']['low_income_units']\n",
        "modnw=MNnewconst[MNnewconst['moderate_income_units'] !='0']['moderate_income_units']\n",
        "midnc=MNnewconst[MNnewconst['middle_income_units'] !='0']['middle_income_units']\n",
        "onc=MNnewconst[MNnewconst['other_income_units'] !='0']['other_income_units']\n",
        "\n",
        "#to int\n",
        "MNnewconst['extremely_low_income_units'] = pd.to_numeric(MNnewconst['extremely_low_income_units'])\n",
        "MNnewconst['very_low_income_units'] = pd.to_numeric(MNnewconst['very_low_income_units'])\n",
        "MNnewconst['low_income_units'] = pd.to_numeric(MNnewconst['low_income_units'])\n",
        "MNnewconst['moderate_income_units'] = pd.to_numeric(MNnewconst['moderate_income_units'])\n",
        "MNnewconst['middle_income_units'] = pd.to_numeric(MNnewconst['middle_income_units'])\n",
        "MNnewconst['very_low_income_units'] = pd.to_numeric(MNnewconst['very_low_income_units'])\n",
        "MNnewconst['other_income_units'] = pd.to_numeric(MNnewconst['other_income_units'])\n",
        "\n",
        "#isolating program group\n",
        "pd.unique(MNnewconst['program_group'])\n",
        "MN_newconstruction = MNnewconst[MNnewconst['program_group'] != 'Homeowner Assistance Program']\n",
        "MNviz = MN_newconstruction.groupby(by=['program_group']).sum()\n",
        "MNviz"
      ],
      "execution_count": null,
      "outputs": [
        {
          "output_type": "execute_result",
          "data": {
            "text/html": [
              "<div>\n",
              "<style scoped>\n",
              "    .dataframe tbody tr th:only-of-type {\n",
              "        vertical-align: middle;\n",
              "    }\n",
              "\n",
              "    .dataframe tbody tr th {\n",
              "        vertical-align: top;\n",
              "    }\n",
              "\n",
              "    .dataframe thead th {\n",
              "        text-align: right;\n",
              "    }\n",
              "</style>\n",
              "<table border=\"1\" class=\"dataframe\">\n",
              "  <thead>\n",
              "    <tr style=\"text-align: right;\">\n",
              "      <th></th>\n",
              "      <th>extremely_low_income_units</th>\n",
              "      <th>very_low_income_units</th>\n",
              "      <th>low_income_units</th>\n",
              "      <th>moderate_income_units</th>\n",
              "      <th>middle_income_units</th>\n",
              "      <th>other_income_units</th>\n",
              "    </tr>\n",
              "    <tr>\n",
              "      <th>program_group</th>\n",
              "      <th></th>\n",
              "      <th></th>\n",
              "      <th></th>\n",
              "      <th></th>\n",
              "      <th></th>\n",
              "      <th></th>\n",
              "    </tr>\n",
              "  </thead>\n",
              "  <tbody>\n",
              "    <tr>\n",
              "      <th>Multifamily Finance Program</th>\n",
              "      <td>606</td>\n",
              "      <td>258</td>\n",
              "      <td>390</td>\n",
              "      <td>140</td>\n",
              "      <td>312</td>\n",
              "      <td>9</td>\n",
              "    </tr>\n",
              "    <tr>\n",
              "      <th>Multifamily Incentives Program</th>\n",
              "      <td>18</td>\n",
              "      <td>258</td>\n",
              "      <td>367</td>\n",
              "      <td>82</td>\n",
              "      <td>199</td>\n",
              "      <td>1</td>\n",
              "    </tr>\n",
              "    <tr>\n",
              "      <th>Small Homes Program</th>\n",
              "      <td>17</td>\n",
              "      <td>11</td>\n",
              "      <td>27</td>\n",
              "      <td>25</td>\n",
              "      <td>0</td>\n",
              "      <td>2</td>\n",
              "    </tr>\n",
              "  </tbody>\n",
              "</table>\n",
              "</div>"
            ],
            "text/plain": [
              "                                extremely_low_income_units  ...  other_income_units\n",
              "program_group                                               ...                    \n",
              "Multifamily Finance Program                            606  ...                   9\n",
              "Multifamily Incentives Program                          18  ...                   1\n",
              "Small Homes Program                                     17  ...                   2\n",
              "\n",
              "[3 rows x 6 columns]"
            ]
          },
          "metadata": {
            "tags": []
          },
          "execution_count": 3
        }
      ]
    },
    {
      "cell_type": "code",
      "metadata": {
        "colab": {
          "base_uri": "https://localhost:8080/",
          "height": 353
        },
        "id": "dfqgDls3YKw0",
        "cellView": "form",
        "outputId": "4039f5aa-9892-42cf-c7c6-652f380dd21a"
      },
      "source": [
        "#@markdown New Construction in Harlem \n",
        "with plt.style.context('seaborn-pastel'):\n",
        "  plt.rc('font', size = 8)  \n",
        "  ax = MNviz.plot.bar()\n",
        "  plt.title('New Construction Units by Income')\n",
        "  plt.xlabel('Program Group')\n",
        "  plt.ylabel('Number of Units')\n",
        "  plt.xticks(rotation=30, horizontalalignment=\"center\")\n",
        "  plt.ylim([0,600])\n",
        "  plt.show()"
      ],
      "execution_count": null,
      "outputs": [
        {
          "output_type": "display_data",
          "data": {
            "image/png": "[encoded data removed]",
            "text/plain": [
              "<Figure size 432x288 with 1 Axes>"
            ]
          },
          "metadata": {
            "tags": [],
            "needs_background": "light"
          }
        }
      ]
    },
    {
      "cell_type": "code",
      "metadata": {
        "id": "-mRczLUrJve4",
        "colab": {
          "base_uri": "https://localhost:8080/",
          "height": 347
        },
        "cellView": "form",
        "outputId": "3a9b1be4-47e9-46ef-caa4-3889f3137d7f"
      },
      "source": [
        "#@markdown Units by Program (+ BitLot)\n",
        "pd.unique(MNnewconst['program_group'])\n",
        "MN_newconstruction = MNnewconst[MNnewconst['program_group'] != 'Homeowner Assistance Program']\n",
        "MNviz = MN_newconstruction.groupby(by=['program_group']).sum()\n",
        "MNviz\n",
        "bitlot = {'program_group' :' BitLot Program', 'extremely_low_income_units':'1350', 'very_low_income_units':'4726','low_income_units':'3945','moderate_income_units':'2927','middle_income_units':'796', 'other_income_units':'0'}\n",
        "MNvizwithbitlot = MNviz.append(bitlot, ignore_index=True)\n",
        "MNvizwithbitlot.loc[:,'Program']=['Multifamily Finance Program','Multifamily Incentive Program','Small Homes Program', 'BitLot Program']\n",
        "del MNvizwithbitlot['program_group']\n",
        "\n",
        "MNvizwithbitlot['extremely_low_income_units'] = pd.to_numeric(MNvizwithbitlot['extremely_low_income_units'])\n",
        "MNvizwithbitlot['very_low_income_units'] = pd.to_numeric(MNvizwithbitlot['very_low_income_units'])\n",
        "MNvizwithbitlot['low_income_units'] = pd.to_numeric(MNvizwithbitlot['low_income_units'])\n",
        "MNvizwithbitlot['moderate_income_units'] = pd.to_numeric(MNvizwithbitlot['moderate_income_units'])\n",
        "MNvizwithbitlot['middle_income_units'] = pd.to_numeric(MNvizwithbitlot['middle_income_units'])\n",
        "MNvizwithbitlot['very_low_income_units'] = pd.to_numeric(MNvizwithbitlot['very_low_income_units'])\n",
        "MNvizwithbitlot['other_income_units'] = pd.to_numeric(MNvizwithbitlot['other_income_units'])\n",
        "\n",
        "MNvizwithbitlot\n",
        "MNvizwithbitlot.set_index(['Program'])"
      ],
      "execution_count": null,
      "outputs": [
        {
          "output_type": "execute_result",
          "data": {
            "text/html": [
              "<div>\n",
              "<style scoped>\n",
              "    .dataframe tbody tr th:only-of-type {\n",
              "        vertical-align: middle;\n",
              "    }\n",
              "\n",
              "    .dataframe tbody tr th {\n",
              "        vertical-align: top;\n",
              "    }\n",
              "\n",
              "    .dataframe thead th {\n",
              "        text-align: right;\n",
              "    }\n",
              "</style>\n",
              "<table border=\"1\" class=\"dataframe\">\n",
              "  <thead>\n",
              "    <tr style=\"text-align: right;\">\n",
              "      <th></th>\n",
              "      <th>extremely_low_income_units</th>\n",
              "      <th>very_low_income_units</th>\n",
              "      <th>low_income_units</th>\n",
              "      <th>moderate_income_units</th>\n",
              "      <th>middle_income_units</th>\n",
              "      <th>other_income_units</th>\n",
              "    </tr>\n",
              "    <tr>\n",
              "      <th>Program</th>\n",
              "      <th></th>\n",
              "      <th></th>\n",
              "      <th></th>\n",
              "      <th></th>\n",
              "      <th></th>\n",
              "      <th></th>\n",
              "    </tr>\n",
              "  </thead>\n",
              "  <tbody>\n",
              "    <tr>\n",
              "      <th>Multifamily Finance Program</th>\n",
              "      <td>606</td>\n",
              "      <td>258</td>\n",
              "      <td>390</td>\n",
              "      <td>140</td>\n",
              "      <td>312</td>\n",
              "      <td>9</td>\n",
              "    </tr>\n",
              "    <tr>\n",
              "      <th>Multifamily Incentive Program</th>\n",
              "      <td>18</td>\n",
              "      <td>258</td>\n",
              "      <td>367</td>\n",
              "      <td>82</td>\n",
              "      <td>199</td>\n",
              "      <td>1</td>\n",
              "    </tr>\n",
              "    <tr>\n",
              "      <th>Small Homes Program</th>\n",
              "      <td>17</td>\n",
              "      <td>11</td>\n",
              "      <td>27</td>\n",
              "      <td>25</td>\n",
              "      <td>0</td>\n",
              "      <td>2</td>\n",
              "    </tr>\n",
              "    <tr>\n",
              "      <th>BitLot Program</th>\n",
              "      <td>1350</td>\n",
              "      <td>4726</td>\n",
              "      <td>3945</td>\n",
              "      <td>2927</td>\n",
              "      <td>796</td>\n",
              "      <td>0</td>\n",
              "    </tr>\n",
              "  </tbody>\n",
              "</table>\n",
              "</div>"
            ],
            "text/plain": [
              "                               extremely_low_income_units  ...  other_income_units\n",
              "Program                                                    ...                    \n",
              "Multifamily Finance Program                           606  ...                   9\n",
              "Multifamily Incentive Program                          18  ...                   1\n",
              "Small Homes Program                                    17  ...                   2\n",
              "BitLot Program                                       1350  ...                   0\n",
              "\n",
              "[4 rows x 6 columns]"
            ]
          },
          "metadata": {
            "tags": []
          },
          "execution_count": 34
        }
      ]
    },
    {
      "cell_type": "code",
      "metadata": {
        "colab": {
          "base_uri": "https://localhost:8080/",
          "height": 651
        },
        "id": "7UIyP8Eq43Mw",
        "cellView": "form",
        "outputId": "e76ae5c7-809b-4563-f6d7-bcfadb12a6f1"
      },
      "source": [
        "#@markdown New Constuction Units by Income (+ BitLot)\n",
        "with plt.style.context('seaborn-pastel'):\n",
        "  plt.rc('font', size = 8)  \n",
        "  \n",
        "  MNvizwithbitlot.plot(kind='bar', stacked =False)\n",
        "  plt.title('New Construction Units by Income (+BitLot)')\n",
        "  plt.xlabel('Program Group')\n",
        "  plt.ylabel('Number of Units')\n",
        "\n",
        "  plt.xticks([0,1,2,3],['Multifamily Finace', 'Multifamily Incentives', 'Small Homes','BitLot'])\n",
        "  plt.xticks(rotation=30, horizontalalignment=\"center\")\n",
        "  plt.ylim([0,1000])\n",
        "  plt.show()\n",
        "\n",
        "with plt.style.context('seaborn-pastel'):\n",
        "  plt.rc('font', size = 8)  \n",
        "  \n",
        "  MNvizwithbitlot.plot(kind='bar', stacked =False)\n",
        "  plt.title('New Construction Units by Income (+BitLot)')\n",
        "  plt.xlabel('Program Group')\n",
        "  plt.ylabel('Number of Units')\n",
        "  \n",
        "  plt.xticks([0,1,2,3],['Multifamily Finace', 'Multifamily Incentives', 'Small Homes','BitLot'])\n",
        "  plt.xticks(rotation=30, horizontalalignment=\"center\")\n",
        "  plt.ylim([0,5000])\n",
        "  #plt.show()\n",
        "  plt.savefig('bitlot.png', dpi=500, transparent = True)\n"
      ],
      "execution_count": null,
      "outputs": [
        {
          "output_type": "display_data",
          "data": {
            "image/png": "[encoded data removed]",
            "text/plain": [
              "<Figure size 432x288 with 1 Axes>"
            ]
          },
          "metadata": {
            "tags": [],
            "needs_background": "light"
          }
        },
        {
          "output_type": "display_data",
          "data": {
            "image/png": "[encoded data removed]",
            "text/plain": [
              "<Figure size 432x288 with 1 Axes>"
            ]
          },
          "metadata": {
            "tags": [],
            "needs_background": "light"
          }
        }
      ]
    },
    {
      "cell_type": "code",
      "metadata": {
        "colab": {
          "base_uri": "https://localhost:8080/",
          "height": 479
        },
        "cellView": "form",
        "id": "Ji575mEofO3A",
        "outputId": "06374cc5-1ba8-46b7-c6f9-6ab14cdb87e2"
      },
      "source": [
        "#@markdown Unit Distribution \n",
        "sizes=[378075,1890375,2268450,2268450,756150]\n",
        "label=[\"Micro\", \"Studio\", \"1BR\", \"2BR\", \"3BR\"]\n",
        "squarify.plot(sizes=sizes, label=label, alpha=0.6 )\n",
        "plt.axis('off')\n",
        "plt.show()\n",
        "#plt.savefig('fig02.png', dpi=300, transparent = True)\n",
        "\n",
        "sizes=[5,25,30,30,10]\n",
        "label=[\"Micro\", \"Studio\", \"1BR\", \"2BR\", \"3BR\"]\n",
        "squarify.plot(sizes=sizes, label=label, alpha=0.6 )\n",
        "plt.axis('off')\n",
        "plt.show()\n",
        "#plt.savefig('fig01.png', dpi=300, transparent = True)"
      ],
      "execution_count": null,
      "outputs": [
        {
          "output_type": "display_data",
          "data": {
            "image/png": "[encoded data removed]",
            "text/plain": [
              "<Figure size 432x288 with 1 Axes>"
            ]
          },
          "metadata": {
            "tags": [],
            "needs_background": "light"
          }
        },
        {
          "output_type": "display_data",
          "data": {
            "image/png": "[encoded data removed]",
            "text/plain": [
              "<Figure size 432x288 with 1 Axes>"
            ]
          },
          "metadata": {
            "tags": [],
            "needs_background": "light"
          }
        }
      ]
    },
    {
      "cell_type": "markdown",
      "metadata": {
        "id": "C4bwZWPCltlY"
      },
      "source": [
        "\n",
        "Concerns around neighborhood acceptance loom over any development project in urban settings, however AirLot’s responsive parameters and low rise spans are specifically engineered to fit the unique context of Harlem. While AirLot parameters will efficiently identify best practice massing and distribution, the working team also strongly suggests that local architecture practices be engaged in making final decisions about formal and programmatic considerations in direct consultation with host-site residents and concerned neighborhood groups. \n",
        "\n",
        "We remain clear eyed about the potential barriers to the successful introduction of BitLot. Most significantly, as with all zoning changes in New York City, unscrupulous developers, property owners and myriad other actors will pick apart the updates with a fine tooth comb trying to find an angle which will allow them to generate more profit. The element we believe is most vulnerable in this regard is the creation of the HSTD. Ideally the right to conduct these transfers would remain exclusively with BitLot as a type of standing zoning exemption for the organization, however this is legally dubious and we could find little precedent for such a significant, perpetual exemption. Our approach estimates that by linking the certification process of the transfers to considerations AirLot is uniquely equipped to address and maximizing affordability requirements, pursuing transfers in the HSTD will have little financial appeal to traditional real estate interests.\n",
        " \n",
        "Further concerns include the following — \n",
        "*  Determining and accurately confirming eligibility for receiving reparative assets will require significant effort, due to the difficulty of producing proofs of tenure or other documentation which otherwise eligible residents may face. \n",
        "*  Low adoption rates, due to either lack of outreach, interest, or funds, would have a notable impact on BitLot’s access to capital, but more importantly, would undercut community support for the developments. To address this, we have begun community outreach to gauge interest and begin soliciting feedback on how AirLot considerations should be formed.\n",
        "*  As with any form of investment, BitLot leans on a modicum of risk. While resources will be committed to informing all participants about the implications of investing, BitLot will also take steps to isolate participants from the most severe fluctuations of markets. Additionally, affordable housing represents a real estate market with highly stable returns, due to consistent demand. \n",
        "\n",
        "If fully implemented, BitLot and AirLot will constitute an entirely new strata of neighborhood in Harlem, and because they are managed by a blanket organization tasked with serving the community, a responsive network of community resources could be distributed in a comprehensive way throughout the structures. This network would represent a sum development greater than its parts. BitLot will be defined by the lasting, even generational nature of the project. The housing stock will be built for a century’s worth of living, and the financial products can accrue value and be passed intergenerationally, offering Black families in Harlem an enhanced opportunity to build wealth after so many decades of systemic barriers. \n"
      ]
    },
    {
      "cell_type": "markdown",
      "metadata": {
        "id": "cg4pCTwSl4FQ"
      },
      "source": [
        "\n",
        "### **Glossary**\n",
        "```\n",
        "\n",
        "Air Rights \n",
        "Developable space above a tax lot. In the case of NYC, quantity of air rights are usually defined by the allowable FAR on a given lot\n",
        "\n",
        "AMI\n",
        "Area Median Income — defined by HUD, a standard metric for defining affordability in housing projects\n",
        "\n",
        "Equity Bonus Rights\n",
        "Proposed program for additional FAR made available to development projects fulfilling reparative goals set by the city\n",
        "\n",
        "FAR \n",
        "Floor area ratio — common metric in zoning documents for managing development square footage \n",
        "\n",
        "FHA\n",
        "Federal Housing Administration — tasked with guaranteeing mortgages for residential and hospital projects \n",
        "\n",
        "HDFC\n",
        "Housing Development Fund Corporation — form of coop apartment supported by NYC gov which caps resale gains to maintain affordability\n",
        "\n",
        "HOLC\n",
        "Homeowners Loan Corporation — New Deal era federal program which offered loan refinancing in non-redlined areas\n",
        "\n",
        "HSTD\n",
        "Harlem Special Transfer District — proposed special zoning district in Harlem to ease transfer of air rights across zoning lots \n",
        "\n",
        "LIHTC\n",
        "Low Income Housing Tax Credits — federal tax incentive for affordable housing construction\n",
        "\n",
        "\n",
        "```\n",
        "\n"
      ]
    },
    {
      "cell_type": "markdown",
      "metadata": {
        "id": "AewATMDbmB8g"
      },
      "source": [
        "\n",
        "### **Works Cited**\n",
        "```\n",
        "Beveridge, Andy A. “Harlem's Shifting Population.” Gotham Gazette, 2008. https://www.gothamgazette.com/index.php/demographcis/4077-harlems-shifting-population.\n",
        "\n",
        "“Central Harlem Neighborhood Profile.” NYU Furman Center, 2018. https://furmancenter.org/neighborhoods/view/central-harlem#:~:text=In%202018%2C%20the%20homeownership%20rate,4.0%20percentage%20points%20since%202010.\n",
        "\n",
        "Chronopoulos, Themis. \"11. Race, Class, and Gentrification in Harlem Since 1980\" In Race Capital? edited by Fearnley, Andrew M., 243-266. New York Chichester, West Sussex: \n",
        "Columbia University Press, 2019. \n",
        "\n",
        "Community Preservation Corporation. “FHA Section 221(d)(4).” Community Preservation Corporation, April 12, 2021. https://communityp.com/products/company/\n",
        "cpc-mortgage-company/fha-221d4/?loan-amount=%245.1M-%2410M&project-type=New+Construction.\n",
        "\n",
        "Comprehensive Historic Preservation Plan prepared by Manhattan Community Board 10, City of New York, April 2012\n",
        "\n",
        "Daniels, Lee A. \"City To Sell Harlem Brownstones.\" New York Times, July 24, 1981.\n",
        "\n",
        "Department of City Planning. New York City, February 2021. https://www1.nyc.gov/site/planning/data-maps/open-data/dwn-pluto-mappluto.page.\n",
        "\n",
        "Department of Housing Preservation and Development (HPD). “Local Law 44 - Projects: NYC Open Data.” Local Law 44 - Projects | NYC Open Data, April 9, 2021. https://data.cityofnewyork.us/Housing-Development/Local-Law-44-Projects/ucdy-byxd.\n",
        "\n",
        "\"Full Text of Deutsch Speech on Harlem Relief,\" New York Amsterdam News, June 22,1935.\n",
        "\n",
        "NYSERDA. New York State. Accessed May 10, 2021. https://www.nyserda.ny.gov/all-programs/programs/commercial-property-assessed-clean-energy.\n",
        "\n",
        "\"Period From 1900 to 1925 Moving Day for 2,100,000,\" New York Amsterdam News, March 14,1928.\n",
        "\n",
        "Surico, John. Rep. STRETCHING NEW YORK CITY’S CAPITAL DOLLARS. New York City , NY: Center for Urban Future, 2021.\n",
        "A Survey of Transferable Development Rights Mechanisms in New York City § (2015).\n",
        "\n",
        "“Understanding the Power of Air Rights.” CityRealty. Accessed May 10, 2021. https://www.cityrealty.com/nyc/market-insight/features/future-nyc/understanding-power-air-rights/2923#:~:text=How%20much%20is%20air%3F,to%20the%20US%20Census%20Bureau. \n",
        "\n",
        "Williams, Lloyd. \"The Harlem Brownstone Dilemma.\" New York Amsterdam News, May 9, 1981.\n",
        "\n",
        "```\n",
        "\n"
      ]
    },
    {
      "cell_type": "code",
      "metadata": {
        "colab": {
          "base_uri": "https://localhost:8080/",
          "height": 394
        },
        "id": "kX23lkNTtOsA",
        "cellView": "form",
        "outputId": "bfd36000-9cb7-4565-f2af-a421d6c1ec37"
      },
      "source": [
        "#@title Sample Proforma\n",
        "W135funding = pd.read_excel('Harlem/West 135th St - Funding Basics.xlsx')\n",
        "W135prop = W135funding[['Property Information', 'Unnamed: 1']]\n",
        "W135prop = W135prop.iloc[0:11]\n",
        "W135prop"
      ],
      "execution_count": null,
      "outputs": [
        {
          "output_type": "execute_result",
          "data": {
            "text/html": [
              "<div>\n",
              "<style scoped>\n",
              "    .dataframe tbody tr th:only-of-type {\n",
              "        vertical-align: middle;\n",
              "    }\n",
              "\n",
              "    .dataframe tbody tr th {\n",
              "        vertical-align: top;\n",
              "    }\n",
              "\n",
              "    .dataframe thead th {\n",
              "        text-align: right;\n",
              "    }\n",
              "</style>\n",
              "<table border=\"1\" class=\"dataframe\">\n",
              "  <thead>\n",
              "    <tr style=\"text-align: right;\">\n",
              "      <th></th>\n",
              "      <th>Property Information</th>\n",
              "      <th>Unnamed: 1</th>\n",
              "    </tr>\n",
              "  </thead>\n",
              "  <tbody>\n",
              "    <tr>\n",
              "      <th>0</th>\n",
              "      <td>Address</td>\n",
              "      <td>107-145 W 135th Street</td>\n",
              "    </tr>\n",
              "    <tr>\n",
              "      <th>1</th>\n",
              "      <td>Existing Buildings</td>\n",
              "      <td>10</td>\n",
              "    </tr>\n",
              "    <tr>\n",
              "      <th>2</th>\n",
              "      <td>Year Built</td>\n",
              "      <td>1910</td>\n",
              "    </tr>\n",
              "    <tr>\n",
              "      <th>3</th>\n",
              "      <td>Existing FAR</td>\n",
              "      <td>4.11</td>\n",
              "    </tr>\n",
              "    <tr>\n",
              "      <th>4</th>\n",
              "      <td>Existing Lot Area</td>\n",
              "      <td>39970</td>\n",
              "    </tr>\n",
              "    <tr>\n",
              "      <th>5</th>\n",
              "      <td>Existing SF</td>\n",
              "      <td>164460</td>\n",
              "    </tr>\n",
              "    <tr>\n",
              "      <th>6</th>\n",
              "      <td>Existing Units</td>\n",
              "      <td>198</td>\n",
              "    </tr>\n",
              "    <tr>\n",
              "      <th>7</th>\n",
              "      <td>Allowable FAR</td>\n",
              "      <td>3.44</td>\n",
              "    </tr>\n",
              "    <tr>\n",
              "      <th>8</th>\n",
              "      <td>Proposed FAR</td>\n",
              "      <td>6.30948</td>\n",
              "    </tr>\n",
              "    <tr>\n",
              "      <th>9</th>\n",
              "      <td>Proposed Additional SF</td>\n",
              "      <td>87730</td>\n",
              "    </tr>\n",
              "    <tr>\n",
              "      <th>10</th>\n",
              "      <td>Proposed Additional Units</td>\n",
              "      <td>99.2195</td>\n",
              "    </tr>\n",
              "  </tbody>\n",
              "</table>\n",
              "</div>"
            ],
            "text/plain": [
              "         Property Information              Unnamed: 1\n",
              "0                     Address  107-145 W 135th Street\n",
              "1          Existing Buildings                      10\n",
              "2                  Year Built                    1910\n",
              "3                Existing FAR                    4.11\n",
              "4           Existing Lot Area                   39970\n",
              "5                 Existing SF                  164460\n",
              "6              Existing Units                     198\n",
              "7               Allowable FAR                    3.44\n",
              "8                Proposed FAR                 6.30948\n",
              "9      Proposed Additional SF                   87730\n",
              "10  Proposed Additional Units                 99.2195"
            ]
          },
          "metadata": {
            "tags": []
          },
          "execution_count": 56
        }
      ]
    },
    {
      "cell_type": "code",
      "metadata": {
        "colab": {
          "base_uri": "https://localhost:8080/",
          "height": 269
        },
        "id": "Ch0bJznGu7y0",
        "cellView": "form",
        "outputId": "45c183d2-e745-46e2-814b-38511d1b2c03"
      },
      "source": [
        "#@markdown Rent Assumptions\n",
        "rentassump = W135funding.iloc[15:22][['Property Information', 'Unnamed: 1', 'Unnamed: 2', 'Unnamed: 3']]\n",
        "rentassump\n",
        "rentassumption = rentassump.rename(columns={\n",
        "    rentassump.columns[0]: 'Unit Size', \n",
        "    'Unnamed: 1': '30%',\n",
        "    'Unnamed: 2': '60% AMI',\n",
        "    'Unnamed: 3': 'Market'})\n",
        "rentassumption"
      ],
      "execution_count": null,
      "outputs": [
        {
          "output_type": "execute_result",
          "data": {
            "text/html": [
              "<div>\n",
              "<style scoped>\n",
              "    .dataframe tbody tr th:only-of-type {\n",
              "        vertical-align: middle;\n",
              "    }\n",
              "\n",
              "    .dataframe tbody tr th {\n",
              "        vertical-align: top;\n",
              "    }\n",
              "\n",
              "    .dataframe thead th {\n",
              "        text-align: right;\n",
              "    }\n",
              "</style>\n",
              "<table border=\"1\" class=\"dataframe\">\n",
              "  <thead>\n",
              "    <tr style=\"text-align: right;\">\n",
              "      <th></th>\n",
              "      <th>Unit Size</th>\n",
              "      <th>30%</th>\n",
              "      <th>60% AMI</th>\n",
              "      <th>Market</th>\n",
              "    </tr>\n",
              "  </thead>\n",
              "  <tbody>\n",
              "    <tr>\n",
              "      <th>15</th>\n",
              "      <td>1 Bedroom</td>\n",
              "      <td>31.3043</td>\n",
              "      <td>575</td>\n",
              "      <td>18000</td>\n",
              "    </tr>\n",
              "    <tr>\n",
              "      <th>16</th>\n",
              "      <td>2 Bedroom</td>\n",
              "      <td>30.9677</td>\n",
              "      <td>775</td>\n",
              "      <td>24000</td>\n",
              "    </tr>\n",
              "    <tr>\n",
              "      <th>17</th>\n",
              "      <td>3 Bedroom</td>\n",
              "      <td>18.9474</td>\n",
              "      <td>950</td>\n",
              "      <td>18000</td>\n",
              "    </tr>\n",
              "    <tr>\n",
              "      <th>18</th>\n",
              "      <td>Private Outdoor Space</td>\n",
              "      <td>12</td>\n",
              "      <td>500</td>\n",
              "      <td>6000</td>\n",
              "    </tr>\n",
              "    <tr>\n",
              "      <th>19</th>\n",
              "      <td>Amenity</td>\n",
              "      <td>1</td>\n",
              "      <td>1034</td>\n",
              "      <td>1240.8</td>\n",
              "    </tr>\n",
              "    <tr>\n",
              "      <th>20</th>\n",
              "      <td>Mechanical/Elec</td>\n",
              "      <td>19</td>\n",
              "      <td>139</td>\n",
              "      <td>3169.2</td>\n",
              "    </tr>\n",
              "    <tr>\n",
              "      <th>21</th>\n",
              "      <td>Total</td>\n",
              "      <td>99.2195</td>\n",
              "      <td>NaN</td>\n",
              "      <td>77610</td>\n",
              "    </tr>\n",
              "  </tbody>\n",
              "</table>\n",
              "</div>"
            ],
            "text/plain": [
              "                Unit Size      30% 60% AMI  Market\n",
              "15              1 Bedroom  31.3043     575   18000\n",
              "16              2 Bedroom  30.9677     775   24000\n",
              "17              3 Bedroom  18.9474     950   18000\n",
              "18  Private Outdoor Space       12     500    6000\n",
              "19                Amenity        1    1034  1240.8\n",
              "20        Mechanical/Elec       19     139  3169.2\n",
              "21                  Total  99.2195     NaN   77610"
            ]
          },
          "metadata": {
            "tags": []
          },
          "execution_count": 119
        }
      ]
    },
    {
      "cell_type": "code",
      "metadata": {
        "colab": {
          "base_uri": "https://localhost:8080/",
          "height": 363
        },
        "id": "M-ZCIscJ0lak",
        "cellView": "form",
        "outputId": "1ea00cbb-f8a8-4851-e14b-05331f220e1b"
      },
      "source": [
        "#@markdown Project Costs\n",
        "projectcosts = W135funding.iloc[53:63][['Property Information', 'Unnamed: 1', 'Unnamed: 2', 'Unnamed: 3']]\n",
        "projectcosts_ = projectcosts.rename(columns={\n",
        "    projectcosts.columns[0]: 'Type', \n",
        "    'Unnamed: 1': 'Unit Cost',\n",
        "    'Unnamed: 2': 'Unit',\n",
        "    'Unnamed: 3': 'Total'})\n",
        "projectcosts_"
      ],
      "execution_count": null,
      "outputs": [
        {
          "output_type": "execute_result",
          "data": {
            "text/html": [
              "<div>\n",
              "<style scoped>\n",
              "    .dataframe tbody tr th:only-of-type {\n",
              "        vertical-align: middle;\n",
              "    }\n",
              "\n",
              "    .dataframe tbody tr th {\n",
              "        vertical-align: top;\n",
              "    }\n",
              "\n",
              "    .dataframe thead th {\n",
              "        text-align: right;\n",
              "    }\n",
              "</style>\n",
              "<table border=\"1\" class=\"dataframe\">\n",
              "  <thead>\n",
              "    <tr style=\"text-align: right;\">\n",
              "      <th></th>\n",
              "      <th>Type</th>\n",
              "      <th>Unit Cost</th>\n",
              "      <th>Unit</th>\n",
              "      <th>Total</th>\n",
              "    </tr>\n",
              "  </thead>\n",
              "  <tbody>\n",
              "    <tr>\n",
              "      <th>53</th>\n",
              "      <td>Air Rights</td>\n",
              "      <td>0</td>\n",
              "      <td>$/ft</td>\n",
              "      <td>0</td>\n",
              "    </tr>\n",
              "    <tr>\n",
              "      <th>54</th>\n",
              "      <td>Construction:</td>\n",
              "      <td>NaN</td>\n",
              "      <td>NaN</td>\n",
              "      <td>NaN</td>\n",
              "    </tr>\n",
              "    <tr>\n",
              "      <th>55</th>\n",
              "      <td>Floor Space</td>\n",
              "      <td>367</td>\n",
              "      <td>$/SF</td>\n",
              "      <td>32196910</td>\n",
              "    </tr>\n",
              "    <tr>\n",
              "      <th>56</th>\n",
              "      <td>Mega Structure</td>\n",
              "      <td>15000000</td>\n",
              "      <td>lump sum</td>\n",
              "      <td>15000000</td>\n",
              "    </tr>\n",
              "    <tr>\n",
              "      <th>57</th>\n",
              "      <td>+</td>\n",
              "      <td>25</td>\n",
              "      <td>$/SF</td>\n",
              "      <td>2193250</td>\n",
              "    </tr>\n",
              "    <tr>\n",
              "      <th>58</th>\n",
              "      <td>Solar</td>\n",
              "      <td>3.21</td>\n",
              "      <td>$/W</td>\n",
              "      <td>494340</td>\n",
              "    </tr>\n",
              "    <tr>\n",
              "      <th>59</th>\n",
              "      <td>Heat Pump</td>\n",
              "      <td>13.6</td>\n",
              "      <td>$/SF</td>\n",
              "      <td>3429784</td>\n",
              "    </tr>\n",
              "    <tr>\n",
              "      <th>60</th>\n",
              "      <td>Soft Costs</td>\n",
              "      <td>0.1</td>\n",
              "      <td>of hard cost</td>\n",
              "      <td>4939016</td>\n",
              "    </tr>\n",
              "    <tr>\n",
              "      <th>61</th>\n",
              "      <td>Contingency</td>\n",
              "      <td>0.1</td>\n",
              "      <td>of other costs</td>\n",
              "      <td>5.43292e+06</td>\n",
              "    </tr>\n",
              "    <tr>\n",
              "      <th>62</th>\n",
              "      <td>NaN</td>\n",
              "      <td>NaN</td>\n",
              "      <td>TOTAL</td>\n",
              "      <td>6.36862e+07</td>\n",
              "    </tr>\n",
              "  </tbody>\n",
              "</table>\n",
              "</div>"
            ],
            "text/plain": [
              "              Type Unit Cost            Unit        Total\n",
              "53      Air Rights         0            $/ft            0\n",
              "54   Construction:       NaN             NaN          NaN\n",
              "55     Floor Space       367            $/SF     32196910\n",
              "56  Mega Structure  15000000        lump sum     15000000\n",
              "57               +        25            $/SF      2193250\n",
              "58           Solar      3.21             $/W       494340\n",
              "59       Heat Pump      13.6            $/SF      3429784\n",
              "60      Soft Costs       0.1    of hard cost      4939016\n",
              "61     Contingency       0.1  of other costs  5.43292e+06\n",
              "62             NaN       NaN           TOTAL  6.36862e+07"
            ]
          },
          "metadata": {
            "tags": []
          },
          "execution_count": 121
        }
      ]
    },
    {
      "cell_type": "code",
      "metadata": {
        "colab": {
          "base_uri": "https://localhost:8080/",
          "height": 206
        },
        "id": "rIuARavc9BSI",
        "cellView": "form",
        "outputId": "1d0b2bc3-77ff-4990-d8f7-5c8603ccfeaf"
      },
      "source": [
        "#@markdown Sources\n",
        "sources =  W135funding.iloc[66:71][['Property Information', 'Unnamed: 1']]\n",
        "sources_ = sources.rename(columns={\n",
        "    sources.columns[0]: 'Sources', \n",
        "    'Unnamed: 1': 'Amount of $'})\n",
        "sources_"
      ],
      "execution_count": null,
      "outputs": [
        {
          "output_type": "execute_result",
          "data": {
            "text/html": [
              "<div>\n",
              "<style scoped>\n",
              "    .dataframe tbody tr th:only-of-type {\n",
              "        vertical-align: middle;\n",
              "    }\n",
              "\n",
              "    .dataframe tbody tr th {\n",
              "        vertical-align: top;\n",
              "    }\n",
              "\n",
              "    .dataframe thead th {\n",
              "        text-align: right;\n",
              "    }\n",
              "</style>\n",
              "<table border=\"1\" class=\"dataframe\">\n",
              "  <thead>\n",
              "    <tr style=\"text-align: right;\">\n",
              "      <th></th>\n",
              "      <th>Sources</th>\n",
              "      <th>Amount of $</th>\n",
              "    </tr>\n",
              "  </thead>\n",
              "  <tbody>\n",
              "    <tr>\n",
              "      <th>66</th>\n",
              "      <td>BitLot Investments</td>\n",
              "      <td>10966250</td>\n",
              "    </tr>\n",
              "    <tr>\n",
              "      <th>67</th>\n",
              "      <td>LIHTC</td>\n",
              "      <td>35916840</td>\n",
              "    </tr>\n",
              "    <tr>\n",
              "      <th>68</th>\n",
              "      <td>CPC Loan</td>\n",
              "      <td>1.33733e+07</td>\n",
              "    </tr>\n",
              "    <tr>\n",
              "      <th>69</th>\n",
              "      <td>C-PACE</td>\n",
              "      <td>3429784</td>\n",
              "    </tr>\n",
              "    <tr>\n",
              "      <th>70</th>\n",
              "      <td>Total</td>\n",
              "      <td>6.36862e+07</td>\n",
              "    </tr>\n",
              "  </tbody>\n",
              "</table>\n",
              "</div>"
            ],
            "text/plain": [
              "               Sources  Amount of $\n",
              "66  BitLot Investments     10966250\n",
              "67               LIHTC     35916840\n",
              "68            CPC Loan  1.33733e+07\n",
              "69              C-PACE      3429784\n",
              "70               Total  6.36862e+07"
            ]
          },
          "metadata": {
            "tags": []
          },
          "execution_count": 128
        }
      ]
    },
    {
      "cell_type": "code",
      "metadata": {
        "colab": {
          "base_uri": "https://localhost:8080/",
          "height": 300
        },
        "id": "GUKGDTClzBcI",
        "cellView": "form",
        "outputId": "f5e8ec7f-4fb6-4a55-cf38-98127e483e3b"
      },
      "source": [
        "#@markdown Revenues\n",
        "revenues = W135funding.iloc[42:50][['Property Information','Unnamed: 1', 'Unnamed: 2', 'Unnamed: 3', 'Unnamed: 4', 'Unnamed: 7']]\n",
        "revenuecosts_ = revenues.rename(columns={\n",
        "    revenues.columns[0]: 'Type', \n",
        "    'Unnamed: 1': '_',\n",
        "    'Unnamed: 2': '_',\n",
        "    'Unnamed: 3': '_',\n",
        "    'Unnamed: 4': '_',\n",
        "    'Unnamed: 7': 'Cost'})\n",
        "revenuecosts_"
      ],
      "execution_count": null,
      "outputs": [
        {
          "output_type": "execute_result",
          "data": {
            "text/html": [
              "<div>\n",
              "<style scoped>\n",
              "    .dataframe tbody tr th:only-of-type {\n",
              "        vertical-align: middle;\n",
              "    }\n",
              "\n",
              "    .dataframe tbody tr th {\n",
              "        vertical-align: top;\n",
              "    }\n",
              "\n",
              "    .dataframe thead th {\n",
              "        text-align: right;\n",
              "    }\n",
              "</style>\n",
              "<table border=\"1\" class=\"dataframe\">\n",
              "  <thead>\n",
              "    <tr style=\"text-align: right;\">\n",
              "      <th></th>\n",
              "      <th>Type</th>\n",
              "      <th>_</th>\n",
              "      <th>_</th>\n",
              "      <th>_</th>\n",
              "      <th>_</th>\n",
              "      <th>Cost</th>\n",
              "    </tr>\n",
              "  </thead>\n",
              "  <tbody>\n",
              "    <tr>\n",
              "      <th>42</th>\n",
              "      <td>Market Rate Residential Rent</td>\n",
              "      <td>0.2</td>\n",
              "      <td>of total residential</td>\n",
              "      <td>35</td>\n",
              "      <td>per SF per year</td>\n",
              "      <td>543270</td>\n",
              "    </tr>\n",
              "    <tr>\n",
              "      <th>43</th>\n",
              "      <td>Affordable Residential</td>\n",
              "      <td>0.8</td>\n",
              "      <td>of total residential</td>\n",
              "      <td>19.9</td>\n",
              "      <td>per SF per year</td>\n",
              "      <td>1.23555e+06</td>\n",
              "    </tr>\n",
              "    <tr>\n",
              "      <th>44</th>\n",
              "      <td>Facility</td>\n",
              "      <td>2000</td>\n",
              "      <td>SF</td>\n",
              "      <td>20</td>\n",
              "      <td>per SF per year</td>\n",
              "      <td>40000</td>\n",
              "    </tr>\n",
              "    <tr>\n",
              "      <th>45</th>\n",
              "      <td>Commercial - Legacy Business</td>\n",
              "      <td>4000</td>\n",
              "      <td>SF</td>\n",
              "      <td>10</td>\n",
              "      <td>per SF per year</td>\n",
              "      <td>40000</td>\n",
              "    </tr>\n",
              "    <tr>\n",
              "      <th>46</th>\n",
              "      <td>Commercial - Flex Work Space</td>\n",
              "      <td>4000</td>\n",
              "      <td>per SF per year</td>\n",
              "      <td>30</td>\n",
              "      <td>per SF per year</td>\n",
              "      <td>120000</td>\n",
              "    </tr>\n",
              "    <tr>\n",
              "      <th>47</th>\n",
              "      <td>Solar</td>\n",
              "      <td>1.1</td>\n",
              "      <td>of total demand</td>\n",
              "      <td>0.35</td>\n",
              "      <td>per SF</td>\n",
              "      <td>30705.5</td>\n",
              "    </tr>\n",
              "    <tr>\n",
              "      <th>48</th>\n",
              "      <td>Geothermal</td>\n",
              "      <td>0.1</td>\n",
              "      <td>of fuel costs</td>\n",
              "      <td>0</td>\n",
              "      <td>per SF</td>\n",
              "      <td>0</td>\n",
              "    </tr>\n",
              "    <tr>\n",
              "      <th>49</th>\n",
              "      <td>NaN</td>\n",
              "      <td>NaN</td>\n",
              "      <td>NaN</td>\n",
              "      <td>NaN</td>\n",
              "      <td>NaN</td>\n",
              "      <td>2.00953e+06</td>\n",
              "    </tr>\n",
              "  </tbody>\n",
              "</table>\n",
              "</div>"
            ],
            "text/plain": [
              "                            Type     _  ...                _         Cost\n",
              "42  Market Rate Residential Rent   0.2  ...  per SF per year       543270\n",
              "43        Affordable Residential   0.8  ...  per SF per year  1.23555e+06\n",
              "44                      Facility  2000  ...  per SF per year        40000\n",
              "45  Commercial - Legacy Business  4000  ...  per SF per year        40000\n",
              "46  Commercial - Flex Work Space  4000  ...  per SF per year       120000\n",
              "47                         Solar   1.1  ...           per SF      30705.5\n",
              "48                    Geothermal   0.1  ...           per SF            0\n",
              "49                           NaN   NaN  ...              NaN  2.00953e+06\n",
              "\n",
              "[8 rows x 6 columns]"
            ]
          },
          "metadata": {
            "tags": []
          },
          "execution_count": 127
        }
      ]
    },
    {
      "cell_type": "code",
      "metadata": {
        "colab": {
          "base_uri": "https://localhost:8080/",
          "height": 300
        },
        "id": "Zvc7LxPy9Owo",
        "cellView": "form",
        "outputId": "02bedb05-eb9f-4dac-94b6-06ca8ff3c889"
      },
      "source": [
        "#@markdown Operating Expenses\n",
        "opexpenses =  W135funding.iloc[31:39][['Property Information', 'Unnamed: 1', 'Unnamed: 2','Unnamed: 4']]\n",
        "operating_ex = opexpenses.rename(columns={\n",
        "    opexpenses.columns[0]: 'Operaring Expenses', \n",
        "    'Unnamed: 1': '_',\n",
        "    'Unnamed: 2': 'per',\n",
        "    'Unnamed: 4': 'Total'})\n",
        "operating_ex"
      ],
      "execution_count": null,
      "outputs": [
        {
          "output_type": "execute_result",
          "data": {
            "text/html": [
              "<div>\n",
              "<style scoped>\n",
              "    .dataframe tbody tr th:only-of-type {\n",
              "        vertical-align: middle;\n",
              "    }\n",
              "\n",
              "    .dataframe tbody tr th {\n",
              "        vertical-align: top;\n",
              "    }\n",
              "\n",
              "    .dataframe thead th {\n",
              "        text-align: right;\n",
              "    }\n",
              "</style>\n",
              "<table border=\"1\" class=\"dataframe\">\n",
              "  <thead>\n",
              "    <tr style=\"text-align: right;\">\n",
              "      <th></th>\n",
              "      <th>Operaring Expenses</th>\n",
              "      <th>_</th>\n",
              "      <th>per</th>\n",
              "      <th>Total</th>\n",
              "    </tr>\n",
              "  </thead>\n",
              "  <tbody>\n",
              "    <tr>\n",
              "      <th>31</th>\n",
              "      <td>Real Estate Taxes</td>\n",
              "      <td>0</td>\n",
              "      <td>ARTICLE XI EXEMPTION</td>\n",
              "      <td>NaN</td>\n",
              "    </tr>\n",
              "    <tr>\n",
              "      <th>32</th>\n",
              "      <td>Insurance</td>\n",
              "      <td>0.5</td>\n",
              "      <td>per SF</td>\n",
              "      <td>82230</td>\n",
              "    </tr>\n",
              "    <tr>\n",
              "      <th>33</th>\n",
              "      <td>Water and Sewer</td>\n",
              "      <td>1</td>\n",
              "      <td>per SF</td>\n",
              "      <td>164460</td>\n",
              "    </tr>\n",
              "    <tr>\n",
              "      <th>34</th>\n",
              "      <td>Fuel</td>\n",
              "      <td>0</td>\n",
              "      <td>per SF</td>\n",
              "      <td>0</td>\n",
              "    </tr>\n",
              "    <tr>\n",
              "      <th>35</th>\n",
              "      <td>Electric</td>\n",
              "      <td>0.35</td>\n",
              "      <td>per SF</td>\n",
              "      <td>57561</td>\n",
              "    </tr>\n",
              "    <tr>\n",
              "      <th>36</th>\n",
              "      <td>Repairs &amp; Maintenance</td>\n",
              "      <td>1</td>\n",
              "      <td>per SF</td>\n",
              "      <td>164460</td>\n",
              "    </tr>\n",
              "    <tr>\n",
              "      <th>37</th>\n",
              "      <td>Management</td>\n",
              "      <td>0.02</td>\n",
              "      <td>of gross annual</td>\n",
              "      <td>40190.5</td>\n",
              "    </tr>\n",
              "    <tr>\n",
              "      <th>38</th>\n",
              "      <td>NaN</td>\n",
              "      <td>NaN</td>\n",
              "      <td>NaN</td>\n",
              "      <td>508902</td>\n",
              "    </tr>\n",
              "  </tbody>\n",
              "</table>\n",
              "</div>"
            ],
            "text/plain": [
              "       Operaring Expenses     _                   per    Total\n",
              "31      Real Estate Taxes     0  ARTICLE XI EXEMPTION      NaN\n",
              "32              Insurance   0.5                per SF    82230\n",
              "33        Water and Sewer     1                per SF   164460\n",
              "34                   Fuel     0                per SF        0\n",
              "35               Electric  0.35                per SF    57561\n",
              "36  Repairs & Maintenance     1                per SF   164460\n",
              "37             Management  0.02       of gross annual  40190.5\n",
              "38                    NaN   NaN                   NaN   508902"
            ]
          },
          "metadata": {
            "tags": []
          },
          "execution_count": 129
        }
      ]
    },
    {
      "cell_type": "code",
      "metadata": {
        "colab": {
          "base_uri": "https://localhost:8080/",
          "height": 206
        },
        "id": "RjCh5-qZA8aA",
        "cellView": "form",
        "outputId": "1ccf8dd2-c081-4b1c-d7d9-1c8979f4056d"
      },
      "source": [
        "#@markdown Net Operating Income\n",
        "netopincome = W135funding.iloc[85:90][['Property Information', 'Unnamed: 1']]\n",
        "net_operation = netopincome.rename(columns={\n",
        "    opexpenses.columns[0]: 'Net Operaring Expenses', \n",
        "    'Unnamed: 1': '$1,060,055'})\n",
        "net_operation"
      ],
      "execution_count": null,
      "outputs": [
        {
          "output_type": "execute_result",
          "data": {
            "text/html": [
              "<div>\n",
              "<style scoped>\n",
              "    .dataframe tbody tr th:only-of-type {\n",
              "        vertical-align: middle;\n",
              "    }\n",
              "\n",
              "    .dataframe tbody tr th {\n",
              "        vertical-align: top;\n",
              "    }\n",
              "\n",
              "    .dataframe thead th {\n",
              "        text-align: right;\n",
              "    }\n",
              "</style>\n",
              "<table border=\"1\" class=\"dataframe\">\n",
              "  <thead>\n",
              "    <tr style=\"text-align: right;\">\n",
              "      <th></th>\n",
              "      <th>Net Operaring Expenses</th>\n",
              "      <th>$1,060,055</th>\n",
              "    </tr>\n",
              "  </thead>\n",
              "  <tbody>\n",
              "    <tr>\n",
              "      <th>85</th>\n",
              "      <td>Debt Service</td>\n",
              "      <td>690349</td>\n",
              "    </tr>\n",
              "    <tr>\n",
              "      <th>86</th>\n",
              "      <td>BitLot Dividends</td>\n",
              "      <td>166499</td>\n",
              "    </tr>\n",
              "    <tr>\n",
              "      <th>87</th>\n",
              "      <td>BitLot Reinvestment funds</td>\n",
              "      <td>203207</td>\n",
              "    </tr>\n",
              "    <tr>\n",
              "      <th>88</th>\n",
              "      <td>DSCR</td>\n",
              "      <td>1.3</td>\n",
              "    </tr>\n",
              "    <tr>\n",
              "      <th>89</th>\n",
              "      <td>NaN</td>\n",
              "      <td>NaN</td>\n",
              "    </tr>\n",
              "  </tbody>\n",
              "</table>\n",
              "</div>"
            ],
            "text/plain": [
              "       Net Operaring Expenses $1,060,055\n",
              "85               Debt Service     690349\n",
              "86           BitLot Dividends     166499\n",
              "87  BitLot Reinvestment funds     203207\n",
              "88                       DSCR        1.3\n",
              "89                        NaN        NaN"
            ]
          },
          "metadata": {
            "tags": []
          },
          "execution_count": 131
        }
      ]
    },
    {
      "cell_type": "code",
      "metadata": {
        "colab": {
          "base_uri": "https://localhost:8080/",
          "height": 112
        },
        "id": "lfdgrn8-B0aY",
        "cellView": "form",
        "outputId": "46ef1170-a96b-4eb3-e206-eea7afb64acf"
      },
      "source": [
        "#@markdown Community Annual Returns\n",
        "commreturns = W135funding.iloc[91:93][['Property Information', 'Unnamed: 2']]\n",
        "communityreturns = commreturns.rename(columns={\n",
        "    commreturns.columns[0]: 'Community Annual Returns', \n",
        "    'Unnamed: 2': 'Amount ($)'})\n",
        "communityreturns"
      ],
      "execution_count": null,
      "outputs": [
        {
          "output_type": "execute_result",
          "data": {
            "text/html": [
              "<div>\n",
              "<style scoped>\n",
              "    .dataframe tbody tr th:only-of-type {\n",
              "        vertical-align: middle;\n",
              "    }\n",
              "\n",
              "    .dataframe tbody tr th {\n",
              "        vertical-align: top;\n",
              "    }\n",
              "\n",
              "    .dataframe thead th {\n",
              "        text-align: right;\n",
              "    }\n",
              "</style>\n",
              "<table border=\"1\" class=\"dataframe\">\n",
              "  <thead>\n",
              "    <tr style=\"text-align: right;\">\n",
              "      <th></th>\n",
              "      <th>Community Annual Returns</th>\n",
              "      <th>Amount ($)</th>\n",
              "    </tr>\n",
              "  </thead>\n",
              "  <tbody>\n",
              "    <tr>\n",
              "      <th>91</th>\n",
              "      <td>Legacy Resident payout</td>\n",
              "      <td>505</td>\n",
              "    </tr>\n",
              "    <tr>\n",
              "      <th>92</th>\n",
              "      <td>BitLot Investor mean payout</td>\n",
              "      <td>3330</td>\n",
              "    </tr>\n",
              "  </tbody>\n",
              "</table>\n",
              "</div>"
            ],
            "text/plain": [
              "       Community Annual Returns Amount ($)\n",
              "91       Legacy Resident payout        505\n",
              "92  BitLot Investor mean payout       3330"
            ]
          },
          "metadata": {
            "tags": []
          },
          "execution_count": 132
        }
      ]
    },
    {
      "cell_type": "markdown",
      "metadata": {
        "id": "rUqgwbQSmsNM"
      },
      "source": [
        "A standard version of this white paper is available [here](https://https://docs.google.com/document/d/1MMQBKfWo4RF43QwDFyv3Qyln4iazRiWpe96bSJPaGZs/edit)."
      ]
    }
  ]
}